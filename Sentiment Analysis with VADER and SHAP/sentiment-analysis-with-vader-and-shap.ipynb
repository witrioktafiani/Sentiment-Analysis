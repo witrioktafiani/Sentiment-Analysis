{
 "cells": [
  {
   "cell_type": "markdown",
   "id": "bc20d0be",
   "metadata": {
    "papermill": {
     "duration": 0.014509,
     "end_time": "2023-04-13T14:28:47.078563",
     "exception": false,
     "start_time": "2023-04-13T14:28:47.064054",
     "status": "completed"
    },
    "tags": []
   },
   "source": [
    "# 1 Dataset"
   ]
  },
  {
   "cell_type": "code",
   "execution_count": 1,
   "id": "64551289",
   "metadata": {
    "execution": {
     "iopub.execute_input": "2023-04-13T14:28:47.108276Z",
     "iopub.status.busy": "2023-04-13T14:28:47.107423Z",
     "iopub.status.idle": "2023-04-13T14:28:48.668315Z",
     "shell.execute_reply": "2023-04-13T14:28:48.667224Z"
    },
    "papermill": {
     "duration": 1.579164,
     "end_time": "2023-04-13T14:28:48.671144",
     "exception": false,
     "start_time": "2023-04-13T14:28:47.091980",
     "status": "completed"
    },
    "tags": []
   },
   "outputs": [],
   "source": [
    "import pandas as pd\n",
    "import matplotlib.pyplot as plt\n",
    "import re\n",
    "import nltk"
   ]
  },
  {
   "cell_type": "code",
   "execution_count": 2,
   "id": "2917ccca",
   "metadata": {
    "execution": {
     "iopub.execute_input": "2023-04-13T14:28:48.700744Z",
     "iopub.status.busy": "2023-04-13T14:28:48.700085Z",
     "iopub.status.idle": "2023-04-13T14:28:48.812043Z",
     "shell.execute_reply": "2023-04-13T14:28:48.810675Z"
    },
    "papermill": {
     "duration": 0.130337,
     "end_time": "2023-04-13T14:28:48.814935",
     "exception": false,
     "start_time": "2023-04-13T14:28:48.684598",
     "status": "completed"
    },
    "tags": []
   },
   "outputs": [
    {
     "data": {
      "text/html": [
       "<div>\n",
       "<style scoped>\n",
       "    .dataframe tbody tr th:only-of-type {\n",
       "        vertical-align: middle;\n",
       "    }\n",
       "\n",
       "    .dataframe tbody tr th {\n",
       "        vertical-align: top;\n",
       "    }\n",
       "\n",
       "    .dataframe thead th {\n",
       "        text-align: right;\n",
       "    }\n",
       "</style>\n",
       "<table border=\"1\" class=\"dataframe\">\n",
       "  <thead>\n",
       "    <tr style=\"text-align: right;\">\n",
       "      <th></th>\n",
       "      <th>Review_Title</th>\n",
       "      <th>Review_Text</th>\n",
       "      <th>Verified_Buyer</th>\n",
       "      <th>Review_Date</th>\n",
       "      <th>Review_Location</th>\n",
       "      <th>Review_Upvotes</th>\n",
       "      <th>Review_Downvotes</th>\n",
       "      <th>Product</th>\n",
       "      <th>Brand</th>\n",
       "      <th>Scrape_Date</th>\n",
       "    </tr>\n",
       "  </thead>\n",
       "  <tbody>\n",
       "    <tr>\n",
       "      <th>0</th>\n",
       "      <td>Perfect</td>\n",
       "      <td>Love using this on my face while in the shower...</td>\n",
       "      <td>No</td>\n",
       "      <td>15 days ago</td>\n",
       "      <td>Undisclosed</td>\n",
       "      <td>0</td>\n",
       "      <td>0</td>\n",
       "      <td>Multi-Vitamin Thermafoliant</td>\n",
       "      <td>Dermalogica</td>\n",
       "      <td>3/27/23</td>\n",
       "    </tr>\n",
       "    <tr>\n",
       "      <th>1</th>\n",
       "      <td>You need this</td>\n",
       "      <td>Even better than the daily microfoliant. I'm o...</td>\n",
       "      <td>No</td>\n",
       "      <td>27 days ago</td>\n",
       "      <td>Undisclosed</td>\n",
       "      <td>0</td>\n",
       "      <td>0</td>\n",
       "      <td>Multi-Vitamin Thermafoliant</td>\n",
       "      <td>Dermalogica</td>\n",
       "      <td>3/27/23</td>\n",
       "    </tr>\n",
       "    <tr>\n",
       "      <th>2</th>\n",
       "      <td>Clean skin</td>\n",
       "      <td>Enjoy this product so much ! I look forward to...</td>\n",
       "      <td>No</td>\n",
       "      <td>2 months ago</td>\n",
       "      <td>Undisclosed</td>\n",
       "      <td>0</td>\n",
       "      <td>0</td>\n",
       "      <td>Multi-Vitamin Thermafoliant</td>\n",
       "      <td>Dermalogica</td>\n",
       "      <td>3/27/23</td>\n",
       "    </tr>\n",
       "    <tr>\n",
       "      <th>3</th>\n",
       "      <td>Love This Stuff!</td>\n",
       "      <td>I've never tried anything like this before and...</td>\n",
       "      <td>No</td>\n",
       "      <td>2 months ago</td>\n",
       "      <td>Undisclosed</td>\n",
       "      <td>0</td>\n",
       "      <td>0</td>\n",
       "      <td>Multi-Vitamin Thermafoliant</td>\n",
       "      <td>Dermalogica</td>\n",
       "      <td>3/27/23</td>\n",
       "    </tr>\n",
       "    <tr>\n",
       "      <th>4</th>\n",
       "      <td>This exfoliates very nicely and</td>\n",
       "      <td>This exfoliates very nicely and gives a very s...</td>\n",
       "      <td>No</td>\n",
       "      <td>2 months ago</td>\n",
       "      <td>Undisclosed</td>\n",
       "      <td>0</td>\n",
       "      <td>0</td>\n",
       "      <td>Multi-Vitamin Thermafoliant</td>\n",
       "      <td>Dermalogica</td>\n",
       "      <td>3/27/23</td>\n",
       "    </tr>\n",
       "  </tbody>\n",
       "</table>\n",
       "</div>"
      ],
      "text/plain": [
       "                      Review_Title  \\\n",
       "0                          Perfect   \n",
       "1                    You need this   \n",
       "2                       Clean skin   \n",
       "3                 Love This Stuff!   \n",
       "4  This exfoliates very nicely and   \n",
       "\n",
       "                                         Review_Text Verified_Buyer  \\\n",
       "0  Love using this on my face while in the shower...             No   \n",
       "1  Even better than the daily microfoliant. I'm o...             No   \n",
       "2  Enjoy this product so much ! I look forward to...             No   \n",
       "3  I've never tried anything like this before and...             No   \n",
       "4  This exfoliates very nicely and gives a very s...             No   \n",
       "\n",
       "    Review_Date Review_Location  Review_Upvotes  Review_Downvotes  \\\n",
       "0   15 days ago     Undisclosed               0                 0   \n",
       "1   27 days ago     Undisclosed               0                 0   \n",
       "2  2 months ago     Undisclosed               0                 0   \n",
       "3  2 months ago     Undisclosed               0                 0   \n",
       "4  2 months ago     Undisclosed               0                 0   \n",
       "\n",
       "                       Product        Brand Scrape_Date  \n",
       "0  Multi-Vitamin Thermafoliant  Dermalogica     3/27/23  \n",
       "1  Multi-Vitamin Thermafoliant  Dermalogica     3/27/23  \n",
       "2  Multi-Vitamin Thermafoliant  Dermalogica     3/27/23  \n",
       "3  Multi-Vitamin Thermafoliant  Dermalogica     3/27/23  \n",
       "4  Multi-Vitamin Thermafoliant  Dermalogica     3/27/23  "
      ]
     },
     "execution_count": 2,
     "metadata": {},
     "output_type": "execute_result"
    }
   ],
   "source": [
    "data = pd.read_csv('/kaggle/input/nlp-ulta-skincare-reviews/Ulta Skincare Reviews.csv')\n",
    "data.head()"
   ]
  },
  {
   "cell_type": "code",
   "execution_count": 3,
   "id": "0f792201",
   "metadata": {
    "execution": {
     "iopub.execute_input": "2023-04-13T14:28:48.845712Z",
     "iopub.status.busy": "2023-04-13T14:28:48.845269Z",
     "iopub.status.idle": "2023-04-13T14:28:48.871845Z",
     "shell.execute_reply": "2023-04-13T14:28:48.869935Z"
    },
    "papermill": {
     "duration": 0.04567,
     "end_time": "2023-04-13T14:28:48.875667",
     "exception": false,
     "start_time": "2023-04-13T14:28:48.829997",
     "status": "completed"
    },
    "tags": []
   },
   "outputs": [
    {
     "name": "stdout",
     "output_type": "stream",
     "text": [
      "<class 'pandas.core.frame.DataFrame'>\n",
      "RangeIndex: 4150 entries, 0 to 4149\n",
      "Data columns (total 10 columns):\n",
      " #   Column            Non-Null Count  Dtype \n",
      "---  ------            --------------  ----- \n",
      " 0   Review_Title      4150 non-null   object\n",
      " 1   Review_Text       4148 non-null   object\n",
      " 2   Verified_Buyer    4150 non-null   object\n",
      " 3   Review_Date       4150 non-null   object\n",
      " 4   Review_Location   4149 non-null   object\n",
      " 5   Review_Upvotes    4150 non-null   int64 \n",
      " 6   Review_Downvotes  4150 non-null   int64 \n",
      " 7   Product           4150 non-null   object\n",
      " 8   Brand             4150 non-null   object\n",
      " 9   Scrape_Date       4150 non-null   object\n",
      "dtypes: int64(2), object(8)\n",
      "memory usage: 324.3+ KB\n"
     ]
    }
   ],
   "source": [
    "data.info()"
   ]
  },
  {
   "cell_type": "code",
   "execution_count": 4,
   "id": "85d19366",
   "metadata": {
    "execution": {
     "iopub.execute_input": "2023-04-13T14:28:48.905848Z",
     "iopub.status.busy": "2023-04-13T14:28:48.905395Z",
     "iopub.status.idle": "2023-04-13T14:28:48.918557Z",
     "shell.execute_reply": "2023-04-13T14:28:48.917167Z"
    },
    "papermill": {
     "duration": 0.031378,
     "end_time": "2023-04-13T14:28:48.920941",
     "exception": false,
     "start_time": "2023-04-13T14:28:48.889563",
     "status": "completed"
    },
    "tags": []
   },
   "outputs": [
    {
     "data": {
      "text/plain": [
       "Review_Title        0\n",
       "Review_Text         2\n",
       "Verified_Buyer      0\n",
       "Review_Date         0\n",
       "Review_Location     1\n",
       "Review_Upvotes      0\n",
       "Review_Downvotes    0\n",
       "Product             0\n",
       "Brand               0\n",
       "Scrape_Date         0\n",
       "dtype: int64"
      ]
     },
     "execution_count": 4,
     "metadata": {},
     "output_type": "execute_result"
    }
   ],
   "source": [
    "data.isnull().sum()"
   ]
  },
  {
   "cell_type": "code",
   "execution_count": 5,
   "id": "2591c5e0",
   "metadata": {
    "execution": {
     "iopub.execute_input": "2023-04-13T14:28:48.951555Z",
     "iopub.status.busy": "2023-04-13T14:28:48.950755Z",
     "iopub.status.idle": "2023-04-13T14:28:48.958815Z",
     "shell.execute_reply": "2023-04-13T14:28:48.957574Z"
    },
    "papermill": {
     "duration": 0.026689,
     "end_time": "2023-04-13T14:28:48.961542",
     "exception": false,
     "start_time": "2023-04-13T14:28:48.934853",
     "status": "completed"
    },
    "tags": []
   },
   "outputs": [],
   "source": [
    "data.fillna('Unknown', inplace=True)"
   ]
  },
  {
   "cell_type": "code",
   "execution_count": 6,
   "id": "ece0db75",
   "metadata": {
    "execution": {
     "iopub.execute_input": "2023-04-13T14:28:48.992719Z",
     "iopub.status.busy": "2023-04-13T14:28:48.991938Z",
     "iopub.status.idle": "2023-04-13T14:28:49.005034Z",
     "shell.execute_reply": "2023-04-13T14:28:49.003692Z"
    },
    "papermill": {
     "duration": 0.031996,
     "end_time": "2023-04-13T14:28:49.007797",
     "exception": false,
     "start_time": "2023-04-13T14:28:48.975801",
     "status": "completed"
    },
    "tags": []
   },
   "outputs": [
    {
     "data": {
      "text/plain": [
       "Review_Title        0\n",
       "Review_Text         0\n",
       "Verified_Buyer      0\n",
       "Review_Date         0\n",
       "Review_Location     0\n",
       "Review_Upvotes      0\n",
       "Review_Downvotes    0\n",
       "Product             0\n",
       "Brand               0\n",
       "Scrape_Date         0\n",
       "dtype: int64"
      ]
     },
     "execution_count": 6,
     "metadata": {},
     "output_type": "execute_result"
    }
   ],
   "source": [
    "data.isnull().sum()"
   ]
  },
  {
   "cell_type": "markdown",
   "id": "bcc711a8",
   "metadata": {
    "papermill": {
     "duration": 0.013739,
     "end_time": "2023-04-13T14:28:49.035983",
     "exception": false,
     "start_time": "2023-04-13T14:28:49.022244",
     "status": "completed"
    },
    "tags": []
   },
   "source": [
    "# 2 Auto Labeling Sentiment Using VaderSentiment"
   ]
  },
  {
   "cell_type": "code",
   "execution_count": 7,
   "id": "490a5903",
   "metadata": {
    "execution": {
     "iopub.execute_input": "2023-04-13T14:28:49.068015Z",
     "iopub.status.busy": "2023-04-13T14:28:49.067273Z",
     "iopub.status.idle": "2023-04-13T14:29:02.094773Z",
     "shell.execute_reply": "2023-04-13T14:29:02.092682Z"
    },
    "papermill": {
     "duration": 13.04698,
     "end_time": "2023-04-13T14:29:02.097578",
     "exception": false,
     "start_time": "2023-04-13T14:28:49.050598",
     "status": "completed"
    },
    "tags": []
   },
   "outputs": [
    {
     "name": "stdout",
     "output_type": "stream",
     "text": [
      "Collecting vaderSentiment\r\n",
      "  Downloading vaderSentiment-3.3.2-py2.py3-none-any.whl (125 kB)\r\n",
      "\u001b[2K     \u001b[90m━━━━━━━━━━━━━━━━━━━━━━━━━━━━━━━━━━━━━━━\u001b[0m \u001b[32m126.0/126.0 kB\u001b[0m \u001b[31m3.6 MB/s\u001b[0m eta \u001b[36m0:00:00\u001b[0m\r\n",
      "\u001b[?25hRequirement already satisfied: requests in /opt/conda/lib/python3.7/site-packages (from vaderSentiment) (2.28.2)\r\n",
      "Requirement already satisfied: charset-normalizer<4,>=2 in /opt/conda/lib/python3.7/site-packages (from requests->vaderSentiment) (2.1.1)\r\n",
      "Requirement already satisfied: idna<4,>=2.5 in /opt/conda/lib/python3.7/site-packages (from requests->vaderSentiment) (3.4)\r\n",
      "Requirement already satisfied: urllib3<1.27,>=1.21.1 in /opt/conda/lib/python3.7/site-packages (from requests->vaderSentiment) (1.26.14)\r\n",
      "Requirement already satisfied: certifi>=2017.4.17 in /opt/conda/lib/python3.7/site-packages (from requests->vaderSentiment) (2022.12.7)\r\n",
      "Installing collected packages: vaderSentiment\r\n",
      "Successfully installed vaderSentiment-3.3.2\r\n",
      "\u001b[33mWARNING: Running pip as the 'root' user can result in broken permissions and conflicting behaviour with the system package manager. It is recommended to use a virtual environment instead: https://pip.pypa.io/warnings/venv\u001b[0m\u001b[33m\r\n",
      "\u001b[0m"
     ]
    }
   ],
   "source": [
    "!pip install vaderSentiment"
   ]
  },
  {
   "cell_type": "code",
   "execution_count": 8,
   "id": "a0e5bc2e",
   "metadata": {
    "execution": {
     "iopub.execute_input": "2023-04-13T14:29:02.131264Z",
     "iopub.status.busy": "2023-04-13T14:29:02.130352Z",
     "iopub.status.idle": "2023-04-13T14:29:02.158895Z",
     "shell.execute_reply": "2023-04-13T14:29:02.157455Z"
    },
    "papermill": {
     "duration": 0.04878,
     "end_time": "2023-04-13T14:29:02.161873",
     "exception": false,
     "start_time": "2023-04-13T14:29:02.113093",
     "status": "completed"
    },
    "tags": []
   },
   "outputs": [],
   "source": [
    "from vaderSentiment.vaderSentiment import SentimentIntensityAnalyzer\n",
    "\n",
    "vds = SentimentIntensityAnalyzer()"
   ]
  },
  {
   "cell_type": "code",
   "execution_count": 9,
   "id": "7d5f7c15",
   "metadata": {
    "execution": {
     "iopub.execute_input": "2023-04-13T14:29:02.193450Z",
     "iopub.status.busy": "2023-04-13T14:29:02.193019Z",
     "iopub.status.idle": "2023-04-13T14:29:02.201131Z",
     "shell.execute_reply": "2023-04-13T14:29:02.199922Z"
    },
    "papermill": {
     "duration": 0.027318,
     "end_time": "2023-04-13T14:29:02.204202",
     "exception": false,
     "start_time": "2023-04-13T14:29:02.176884",
     "status": "completed"
    },
    "tags": []
   },
   "outputs": [
    {
     "data": {
      "text/plain": [
       "{'neg': 0.0, 'neu': 0.58, 'pos': 0.42, 'compound': 0.4404}"
      ]
     },
     "execution_count": 9,
     "metadata": {},
     "output_type": "execute_result"
    }
   ],
   "source": [
    "text =  'I am good for today.'\n",
    "\n",
    "vds.polarity_scores(text)"
   ]
  },
  {
   "cell_type": "code",
   "execution_count": 10,
   "id": "a988283a",
   "metadata": {
    "execution": {
     "iopub.execute_input": "2023-04-13T14:29:02.237453Z",
     "iopub.status.busy": "2023-04-13T14:29:02.236288Z",
     "iopub.status.idle": "2023-04-13T14:29:02.241716Z",
     "shell.execute_reply": "2023-04-13T14:29:02.240346Z"
    },
    "papermill": {
     "duration": 0.024404,
     "end_time": "2023-04-13T14:29:02.244526",
     "exception": false,
     "start_time": "2023-04-13T14:29:02.220122",
     "status": "completed"
    },
    "tags": []
   },
   "outputs": [],
   "source": [
    "#doc = data['Review_Text']\n",
    "\n",
    "#vds.polarity_scores(doc)"
   ]
  },
  {
   "cell_type": "code",
   "execution_count": 11,
   "id": "9e2e6cc5",
   "metadata": {
    "execution": {
     "iopub.execute_input": "2023-04-13T14:29:02.276033Z",
     "iopub.status.busy": "2023-04-13T14:29:02.275575Z",
     "iopub.status.idle": "2023-04-13T14:29:04.702026Z",
     "shell.execute_reply": "2023-04-13T14:29:04.700060Z"
    },
    "papermill": {
     "duration": 2.445542,
     "end_time": "2023-04-13T14:29:04.705045",
     "exception": false,
     "start_time": "2023-04-13T14:29:02.259503",
     "status": "completed"
    },
    "tags": []
   },
   "outputs": [
    {
     "data": {
      "text/html": [
       "<div>\n",
       "<style scoped>\n",
       "    .dataframe tbody tr th:only-of-type {\n",
       "        vertical-align: middle;\n",
       "    }\n",
       "\n",
       "    .dataframe tbody tr th {\n",
       "        vertical-align: top;\n",
       "    }\n",
       "\n",
       "    .dataframe thead th {\n",
       "        text-align: right;\n",
       "    }\n",
       "</style>\n",
       "<table border=\"1\" class=\"dataframe\">\n",
       "  <thead>\n",
       "    <tr style=\"text-align: right;\">\n",
       "      <th></th>\n",
       "      <th>Review_Title</th>\n",
       "      <th>Review_Text</th>\n",
       "      <th>Verified_Buyer</th>\n",
       "      <th>Review_Date</th>\n",
       "      <th>Review_Location</th>\n",
       "      <th>Review_Upvotes</th>\n",
       "      <th>Review_Downvotes</th>\n",
       "      <th>Product</th>\n",
       "      <th>Brand</th>\n",
       "      <th>Scrape_Date</th>\n",
       "      <th>score</th>\n",
       "    </tr>\n",
       "  </thead>\n",
       "  <tbody>\n",
       "    <tr>\n",
       "      <th>0</th>\n",
       "      <td>Perfect</td>\n",
       "      <td>Love using this on my face while in the shower...</td>\n",
       "      <td>No</td>\n",
       "      <td>15 days ago</td>\n",
       "      <td>Undisclosed</td>\n",
       "      <td>0</td>\n",
       "      <td>0</td>\n",
       "      <td>Multi-Vitamin Thermafoliant</td>\n",
       "      <td>Dermalogica</td>\n",
       "      <td>3/27/23</td>\n",
       "      <td>{'neg': 0.0, 'neu': 0.693, 'pos': 0.307, 'comp...</td>\n",
       "    </tr>\n",
       "    <tr>\n",
       "      <th>1</th>\n",
       "      <td>You need this</td>\n",
       "      <td>Even better than the daily microfoliant. I'm o...</td>\n",
       "      <td>No</td>\n",
       "      <td>27 days ago</td>\n",
       "      <td>Undisclosed</td>\n",
       "      <td>0</td>\n",
       "      <td>0</td>\n",
       "      <td>Multi-Vitamin Thermafoliant</td>\n",
       "      <td>Dermalogica</td>\n",
       "      <td>3/27/23</td>\n",
       "      <td>{'neg': 0.102, 'neu': 0.723, 'pos': 0.175, 'co...</td>\n",
       "    </tr>\n",
       "    <tr>\n",
       "      <th>2</th>\n",
       "      <td>Clean skin</td>\n",
       "      <td>Enjoy this product so much ! I look forward to...</td>\n",
       "      <td>No</td>\n",
       "      <td>2 months ago</td>\n",
       "      <td>Undisclosed</td>\n",
       "      <td>0</td>\n",
       "      <td>0</td>\n",
       "      <td>Multi-Vitamin Thermafoliant</td>\n",
       "      <td>Dermalogica</td>\n",
       "      <td>3/27/23</td>\n",
       "      <td>{'neg': 0.0, 'neu': 0.64, 'pos': 0.36, 'compou...</td>\n",
       "    </tr>\n",
       "    <tr>\n",
       "      <th>3</th>\n",
       "      <td>Love This Stuff!</td>\n",
       "      <td>I've never tried anything like this before and...</td>\n",
       "      <td>No</td>\n",
       "      <td>2 months ago</td>\n",
       "      <td>Undisclosed</td>\n",
       "      <td>0</td>\n",
       "      <td>0</td>\n",
       "      <td>Multi-Vitamin Thermafoliant</td>\n",
       "      <td>Dermalogica</td>\n",
       "      <td>3/27/23</td>\n",
       "      <td>{'neg': 0.029, 'neu': 0.758, 'pos': 0.212, 'co...</td>\n",
       "    </tr>\n",
       "    <tr>\n",
       "      <th>4</th>\n",
       "      <td>This exfoliates very nicely and</td>\n",
       "      <td>This exfoliates very nicely and gives a very s...</td>\n",
       "      <td>No</td>\n",
       "      <td>2 months ago</td>\n",
       "      <td>Undisclosed</td>\n",
       "      <td>0</td>\n",
       "      <td>0</td>\n",
       "      <td>Multi-Vitamin Thermafoliant</td>\n",
       "      <td>Dermalogica</td>\n",
       "      <td>3/27/23</td>\n",
       "      <td>{'neg': 0.061, 'neu': 0.718, 'pos': 0.221, 'co...</td>\n",
       "    </tr>\n",
       "  </tbody>\n",
       "</table>\n",
       "</div>"
      ],
      "text/plain": [
       "                      Review_Title  \\\n",
       "0                          Perfect   \n",
       "1                    You need this   \n",
       "2                       Clean skin   \n",
       "3                 Love This Stuff!   \n",
       "4  This exfoliates very nicely and   \n",
       "\n",
       "                                         Review_Text Verified_Buyer  \\\n",
       "0  Love using this on my face while in the shower...             No   \n",
       "1  Even better than the daily microfoliant. I'm o...             No   \n",
       "2  Enjoy this product so much ! I look forward to...             No   \n",
       "3  I've never tried anything like this before and...             No   \n",
       "4  This exfoliates very nicely and gives a very s...             No   \n",
       "\n",
       "    Review_Date Review_Location  Review_Upvotes  Review_Downvotes  \\\n",
       "0   15 days ago     Undisclosed               0                 0   \n",
       "1   27 days ago     Undisclosed               0                 0   \n",
       "2  2 months ago     Undisclosed               0                 0   \n",
       "3  2 months ago     Undisclosed               0                 0   \n",
       "4  2 months ago     Undisclosed               0                 0   \n",
       "\n",
       "                       Product        Brand Scrape_Date  \\\n",
       "0  Multi-Vitamin Thermafoliant  Dermalogica     3/27/23   \n",
       "1  Multi-Vitamin Thermafoliant  Dermalogica     3/27/23   \n",
       "2  Multi-Vitamin Thermafoliant  Dermalogica     3/27/23   \n",
       "3  Multi-Vitamin Thermafoliant  Dermalogica     3/27/23   \n",
       "4  Multi-Vitamin Thermafoliant  Dermalogica     3/27/23   \n",
       "\n",
       "                                               score  \n",
       "0  {'neg': 0.0, 'neu': 0.693, 'pos': 0.307, 'comp...  \n",
       "1  {'neg': 0.102, 'neu': 0.723, 'pos': 0.175, 'co...  \n",
       "2  {'neg': 0.0, 'neu': 0.64, 'pos': 0.36, 'compou...  \n",
       "3  {'neg': 0.029, 'neu': 0.758, 'pos': 0.212, 'co...  \n",
       "4  {'neg': 0.061, 'neu': 0.718, 'pos': 0.221, 'co...  "
      ]
     },
     "execution_count": 11,
     "metadata": {},
     "output_type": "execute_result"
    }
   ],
   "source": [
    "data['score'] = data['Review_Text'].apply(lambda review: vds.polarity_scores(review))\n",
    "\n",
    "data.head()"
   ]
  },
  {
   "cell_type": "code",
   "execution_count": 12,
   "id": "73d85400",
   "metadata": {
    "execution": {
     "iopub.execute_input": "2023-04-13T14:29:04.739828Z",
     "iopub.status.busy": "2023-04-13T14:29:04.739304Z",
     "iopub.status.idle": "2023-04-13T14:29:04.764779Z",
     "shell.execute_reply": "2023-04-13T14:29:04.763207Z"
    },
    "papermill": {
     "duration": 0.046314,
     "end_time": "2023-04-13T14:29:04.767386",
     "exception": false,
     "start_time": "2023-04-13T14:29:04.721072",
     "status": "completed"
    },
    "tags": []
   },
   "outputs": [
    {
     "data": {
      "text/html": [
       "<div>\n",
       "<style scoped>\n",
       "    .dataframe tbody tr th:only-of-type {\n",
       "        vertical-align: middle;\n",
       "    }\n",
       "\n",
       "    .dataframe tbody tr th {\n",
       "        vertical-align: top;\n",
       "    }\n",
       "\n",
       "    .dataframe thead th {\n",
       "        text-align: right;\n",
       "    }\n",
       "</style>\n",
       "<table border=\"1\" class=\"dataframe\">\n",
       "  <thead>\n",
       "    <tr style=\"text-align: right;\">\n",
       "      <th></th>\n",
       "      <th>Review_Title</th>\n",
       "      <th>Review_Text</th>\n",
       "      <th>Verified_Buyer</th>\n",
       "      <th>Review_Date</th>\n",
       "      <th>Review_Location</th>\n",
       "      <th>Review_Upvotes</th>\n",
       "      <th>Review_Downvotes</th>\n",
       "      <th>Product</th>\n",
       "      <th>Brand</th>\n",
       "      <th>Scrape_Date</th>\n",
       "      <th>score</th>\n",
       "      <th>compound</th>\n",
       "    </tr>\n",
       "  </thead>\n",
       "  <tbody>\n",
       "    <tr>\n",
       "      <th>0</th>\n",
       "      <td>Perfect</td>\n",
       "      <td>Love using this on my face while in the shower...</td>\n",
       "      <td>No</td>\n",
       "      <td>15 days ago</td>\n",
       "      <td>Undisclosed</td>\n",
       "      <td>0</td>\n",
       "      <td>0</td>\n",
       "      <td>Multi-Vitamin Thermafoliant</td>\n",
       "      <td>Dermalogica</td>\n",
       "      <td>3/27/23</td>\n",
       "      <td>{'neg': 0.0, 'neu': 0.693, 'pos': 0.307, 'comp...</td>\n",
       "      <td>0.7964</td>\n",
       "    </tr>\n",
       "    <tr>\n",
       "      <th>1</th>\n",
       "      <td>You need this</td>\n",
       "      <td>Even better than the daily microfoliant. I'm o...</td>\n",
       "      <td>No</td>\n",
       "      <td>27 days ago</td>\n",
       "      <td>Undisclosed</td>\n",
       "      <td>0</td>\n",
       "      <td>0</td>\n",
       "      <td>Multi-Vitamin Thermafoliant</td>\n",
       "      <td>Dermalogica</td>\n",
       "      <td>3/27/23</td>\n",
       "      <td>{'neg': 0.102, 'neu': 0.723, 'pos': 0.175, 'co...</td>\n",
       "      <td>0.2960</td>\n",
       "    </tr>\n",
       "    <tr>\n",
       "      <th>2</th>\n",
       "      <td>Clean skin</td>\n",
       "      <td>Enjoy this product so much ! I look forward to...</td>\n",
       "      <td>No</td>\n",
       "      <td>2 months ago</td>\n",
       "      <td>Undisclosed</td>\n",
       "      <td>0</td>\n",
       "      <td>0</td>\n",
       "      <td>Multi-Vitamin Thermafoliant</td>\n",
       "      <td>Dermalogica</td>\n",
       "      <td>3/27/23</td>\n",
       "      <td>{'neg': 0.0, 'neu': 0.64, 'pos': 0.36, 'compou...</td>\n",
       "      <td>0.8347</td>\n",
       "    </tr>\n",
       "    <tr>\n",
       "      <th>3</th>\n",
       "      <td>Love This Stuff!</td>\n",
       "      <td>I've never tried anything like this before and...</td>\n",
       "      <td>No</td>\n",
       "      <td>2 months ago</td>\n",
       "      <td>Undisclosed</td>\n",
       "      <td>0</td>\n",
       "      <td>0</td>\n",
       "      <td>Multi-Vitamin Thermafoliant</td>\n",
       "      <td>Dermalogica</td>\n",
       "      <td>3/27/23</td>\n",
       "      <td>{'neg': 0.029, 'neu': 0.758, 'pos': 0.212, 'co...</td>\n",
       "      <td>0.8636</td>\n",
       "    </tr>\n",
       "    <tr>\n",
       "      <th>4</th>\n",
       "      <td>This exfoliates very nicely and</td>\n",
       "      <td>This exfoliates very nicely and gives a very s...</td>\n",
       "      <td>No</td>\n",
       "      <td>2 months ago</td>\n",
       "      <td>Undisclosed</td>\n",
       "      <td>0</td>\n",
       "      <td>0</td>\n",
       "      <td>Multi-Vitamin Thermafoliant</td>\n",
       "      <td>Dermalogica</td>\n",
       "      <td>3/27/23</td>\n",
       "      <td>{'neg': 0.061, 'neu': 0.718, 'pos': 0.221, 'co...</td>\n",
       "      <td>0.6992</td>\n",
       "    </tr>\n",
       "  </tbody>\n",
       "</table>\n",
       "</div>"
      ],
      "text/plain": [
       "                      Review_Title  \\\n",
       "0                          Perfect   \n",
       "1                    You need this   \n",
       "2                       Clean skin   \n",
       "3                 Love This Stuff!   \n",
       "4  This exfoliates very nicely and   \n",
       "\n",
       "                                         Review_Text Verified_Buyer  \\\n",
       "0  Love using this on my face while in the shower...             No   \n",
       "1  Even better than the daily microfoliant. I'm o...             No   \n",
       "2  Enjoy this product so much ! I look forward to...             No   \n",
       "3  I've never tried anything like this before and...             No   \n",
       "4  This exfoliates very nicely and gives a very s...             No   \n",
       "\n",
       "    Review_Date Review_Location  Review_Upvotes  Review_Downvotes  \\\n",
       "0   15 days ago     Undisclosed               0                 0   \n",
       "1   27 days ago     Undisclosed               0                 0   \n",
       "2  2 months ago     Undisclosed               0                 0   \n",
       "3  2 months ago     Undisclosed               0                 0   \n",
       "4  2 months ago     Undisclosed               0                 0   \n",
       "\n",
       "                       Product        Brand Scrape_Date  \\\n",
       "0  Multi-Vitamin Thermafoliant  Dermalogica     3/27/23   \n",
       "1  Multi-Vitamin Thermafoliant  Dermalogica     3/27/23   \n",
       "2  Multi-Vitamin Thermafoliant  Dermalogica     3/27/23   \n",
       "3  Multi-Vitamin Thermafoliant  Dermalogica     3/27/23   \n",
       "4  Multi-Vitamin Thermafoliant  Dermalogica     3/27/23   \n",
       "\n",
       "                                               score  compound  \n",
       "0  {'neg': 0.0, 'neu': 0.693, 'pos': 0.307, 'comp...    0.7964  \n",
       "1  {'neg': 0.102, 'neu': 0.723, 'pos': 0.175, 'co...    0.2960  \n",
       "2  {'neg': 0.0, 'neu': 0.64, 'pos': 0.36, 'compou...    0.8347  \n",
       "3  {'neg': 0.029, 'neu': 0.758, 'pos': 0.212, 'co...    0.8636  \n",
       "4  {'neg': 0.061, 'neu': 0.718, 'pos': 0.221, 'co...    0.6992  "
      ]
     },
     "execution_count": 12,
     "metadata": {},
     "output_type": "execute_result"
    }
   ],
   "source": [
    "data['compound']  = data['score'].apply(lambda score_dict: score_dict['compound'])\n",
    "\n",
    "data.head()"
   ]
  },
  {
   "cell_type": "code",
   "execution_count": 13,
   "id": "d63af579",
   "metadata": {
    "execution": {
     "iopub.execute_input": "2023-04-13T14:29:04.801112Z",
     "iopub.status.busy": "2023-04-13T14:29:04.800719Z",
     "iopub.status.idle": "2023-04-13T14:29:04.824736Z",
     "shell.execute_reply": "2023-04-13T14:29:04.823415Z"
    },
    "papermill": {
     "duration": 0.044182,
     "end_time": "2023-04-13T14:29:04.827424",
     "exception": false,
     "start_time": "2023-04-13T14:29:04.783242",
     "status": "completed"
    },
    "tags": []
   },
   "outputs": [
    {
     "data": {
      "text/html": [
       "<div>\n",
       "<style scoped>\n",
       "    .dataframe tbody tr th:only-of-type {\n",
       "        vertical-align: middle;\n",
       "    }\n",
       "\n",
       "    .dataframe tbody tr th {\n",
       "        vertical-align: top;\n",
       "    }\n",
       "\n",
       "    .dataframe thead th {\n",
       "        text-align: right;\n",
       "    }\n",
       "</style>\n",
       "<table border=\"1\" class=\"dataframe\">\n",
       "  <thead>\n",
       "    <tr style=\"text-align: right;\">\n",
       "      <th></th>\n",
       "      <th>Review_Title</th>\n",
       "      <th>Review_Text</th>\n",
       "      <th>Verified_Buyer</th>\n",
       "      <th>Review_Date</th>\n",
       "      <th>Review_Location</th>\n",
       "      <th>Review_Upvotes</th>\n",
       "      <th>Review_Downvotes</th>\n",
       "      <th>Product</th>\n",
       "      <th>Brand</th>\n",
       "      <th>Scrape_Date</th>\n",
       "      <th>score</th>\n",
       "      <th>compound</th>\n",
       "      <th>sentiment</th>\n",
       "    </tr>\n",
       "  </thead>\n",
       "  <tbody>\n",
       "    <tr>\n",
       "      <th>0</th>\n",
       "      <td>Perfect</td>\n",
       "      <td>Love using this on my face while in the shower...</td>\n",
       "      <td>No</td>\n",
       "      <td>15 days ago</td>\n",
       "      <td>Undisclosed</td>\n",
       "      <td>0</td>\n",
       "      <td>0</td>\n",
       "      <td>Multi-Vitamin Thermafoliant</td>\n",
       "      <td>Dermalogica</td>\n",
       "      <td>3/27/23</td>\n",
       "      <td>{'neg': 0.0, 'neu': 0.693, 'pos': 0.307, 'comp...</td>\n",
       "      <td>0.7964</td>\n",
       "      <td>pos</td>\n",
       "    </tr>\n",
       "    <tr>\n",
       "      <th>1</th>\n",
       "      <td>You need this</td>\n",
       "      <td>Even better than the daily microfoliant. I'm o...</td>\n",
       "      <td>No</td>\n",
       "      <td>27 days ago</td>\n",
       "      <td>Undisclosed</td>\n",
       "      <td>0</td>\n",
       "      <td>0</td>\n",
       "      <td>Multi-Vitamin Thermafoliant</td>\n",
       "      <td>Dermalogica</td>\n",
       "      <td>3/27/23</td>\n",
       "      <td>{'neg': 0.102, 'neu': 0.723, 'pos': 0.175, 'co...</td>\n",
       "      <td>0.2960</td>\n",
       "      <td>pos</td>\n",
       "    </tr>\n",
       "    <tr>\n",
       "      <th>2</th>\n",
       "      <td>Clean skin</td>\n",
       "      <td>Enjoy this product so much ! I look forward to...</td>\n",
       "      <td>No</td>\n",
       "      <td>2 months ago</td>\n",
       "      <td>Undisclosed</td>\n",
       "      <td>0</td>\n",
       "      <td>0</td>\n",
       "      <td>Multi-Vitamin Thermafoliant</td>\n",
       "      <td>Dermalogica</td>\n",
       "      <td>3/27/23</td>\n",
       "      <td>{'neg': 0.0, 'neu': 0.64, 'pos': 0.36, 'compou...</td>\n",
       "      <td>0.8347</td>\n",
       "      <td>pos</td>\n",
       "    </tr>\n",
       "    <tr>\n",
       "      <th>3</th>\n",
       "      <td>Love This Stuff!</td>\n",
       "      <td>I've never tried anything like this before and...</td>\n",
       "      <td>No</td>\n",
       "      <td>2 months ago</td>\n",
       "      <td>Undisclosed</td>\n",
       "      <td>0</td>\n",
       "      <td>0</td>\n",
       "      <td>Multi-Vitamin Thermafoliant</td>\n",
       "      <td>Dermalogica</td>\n",
       "      <td>3/27/23</td>\n",
       "      <td>{'neg': 0.029, 'neu': 0.758, 'pos': 0.212, 'co...</td>\n",
       "      <td>0.8636</td>\n",
       "      <td>pos</td>\n",
       "    </tr>\n",
       "    <tr>\n",
       "      <th>4</th>\n",
       "      <td>This exfoliates very nicely and</td>\n",
       "      <td>This exfoliates very nicely and gives a very s...</td>\n",
       "      <td>No</td>\n",
       "      <td>2 months ago</td>\n",
       "      <td>Undisclosed</td>\n",
       "      <td>0</td>\n",
       "      <td>0</td>\n",
       "      <td>Multi-Vitamin Thermafoliant</td>\n",
       "      <td>Dermalogica</td>\n",
       "      <td>3/27/23</td>\n",
       "      <td>{'neg': 0.061, 'neu': 0.718, 'pos': 0.221, 'co...</td>\n",
       "      <td>0.6992</td>\n",
       "      <td>pos</td>\n",
       "    </tr>\n",
       "  </tbody>\n",
       "</table>\n",
       "</div>"
      ],
      "text/plain": [
       "                      Review_Title  \\\n",
       "0                          Perfect   \n",
       "1                    You need this   \n",
       "2                       Clean skin   \n",
       "3                 Love This Stuff!   \n",
       "4  This exfoliates very nicely and   \n",
       "\n",
       "                                         Review_Text Verified_Buyer  \\\n",
       "0  Love using this on my face while in the shower...             No   \n",
       "1  Even better than the daily microfoliant. I'm o...             No   \n",
       "2  Enjoy this product so much ! I look forward to...             No   \n",
       "3  I've never tried anything like this before and...             No   \n",
       "4  This exfoliates very nicely and gives a very s...             No   \n",
       "\n",
       "    Review_Date Review_Location  Review_Upvotes  Review_Downvotes  \\\n",
       "0   15 days ago     Undisclosed               0                 0   \n",
       "1   27 days ago     Undisclosed               0                 0   \n",
       "2  2 months ago     Undisclosed               0                 0   \n",
       "3  2 months ago     Undisclosed               0                 0   \n",
       "4  2 months ago     Undisclosed               0                 0   \n",
       "\n",
       "                       Product        Brand Scrape_Date  \\\n",
       "0  Multi-Vitamin Thermafoliant  Dermalogica     3/27/23   \n",
       "1  Multi-Vitamin Thermafoliant  Dermalogica     3/27/23   \n",
       "2  Multi-Vitamin Thermafoliant  Dermalogica     3/27/23   \n",
       "3  Multi-Vitamin Thermafoliant  Dermalogica     3/27/23   \n",
       "4  Multi-Vitamin Thermafoliant  Dermalogica     3/27/23   \n",
       "\n",
       "                                               score  compound sentiment  \n",
       "0  {'neg': 0.0, 'neu': 0.693, 'pos': 0.307, 'comp...    0.7964       pos  \n",
       "1  {'neg': 0.102, 'neu': 0.723, 'pos': 0.175, 'co...    0.2960       pos  \n",
       "2  {'neg': 0.0, 'neu': 0.64, 'pos': 0.36, 'compou...    0.8347       pos  \n",
       "3  {'neg': 0.029, 'neu': 0.758, 'pos': 0.212, 'co...    0.8636       pos  \n",
       "4  {'neg': 0.061, 'neu': 0.718, 'pos': 0.221, 'co...    0.6992       pos  "
      ]
     },
     "execution_count": 13,
     "metadata": {},
     "output_type": "execute_result"
    }
   ],
   "source": [
    "data['sentiment'] = data['compound'].apply(lambda c: 'pos' if c >=0 else 'neg')\n",
    "\n",
    "data.head()"
   ]
  },
  {
   "cell_type": "code",
   "execution_count": 14,
   "id": "c9aa3421",
   "metadata": {
    "execution": {
     "iopub.execute_input": "2023-04-13T14:29:04.863071Z",
     "iopub.status.busy": "2023-04-13T14:29:04.862310Z",
     "iopub.status.idle": "2023-04-13T14:29:04.875342Z",
     "shell.execute_reply": "2023-04-13T14:29:04.873396Z"
    },
    "papermill": {
     "duration": 0.034429,
     "end_time": "2023-04-13T14:29:04.878212",
     "exception": false,
     "start_time": "2023-04-13T14:29:04.843783",
     "status": "completed"
    },
    "tags": []
   },
   "outputs": [
    {
     "data": {
      "text/plain": [
       "Daily Superfoliant             1500\n",
       "Daily Microfoliant             1500\n",
       "Hydro Masque Exfoliant          800\n",
       "Multi-Vitamin Thermafoliant     350\n",
       "Name: Product, dtype: int64"
      ]
     },
     "execution_count": 14,
     "metadata": {},
     "output_type": "execute_result"
    }
   ],
   "source": [
    "data['Product'].value_counts()"
   ]
  },
  {
   "cell_type": "code",
   "execution_count": 15,
   "id": "5b633aed",
   "metadata": {
    "execution": {
     "iopub.execute_input": "2023-04-13T14:29:04.914180Z",
     "iopub.status.busy": "2023-04-13T14:29:04.913742Z",
     "iopub.status.idle": "2023-04-13T14:29:04.924048Z",
     "shell.execute_reply": "2023-04-13T14:29:04.922728Z"
    },
    "papermill": {
     "duration": 0.032534,
     "end_time": "2023-04-13T14:29:04.927146",
     "exception": false,
     "start_time": "2023-04-13T14:29:04.894612",
     "status": "completed"
    },
    "tags": []
   },
   "outputs": [
    {
     "data": {
      "text/plain": [
       "Dermalogica    4150\n",
       "Name: Brand, dtype: int64"
      ]
     },
     "execution_count": 15,
     "metadata": {},
     "output_type": "execute_result"
    }
   ],
   "source": [
    "data['Brand'].value_counts()"
   ]
  },
  {
   "cell_type": "code",
   "execution_count": 16,
   "id": "5de48bc6",
   "metadata": {
    "execution": {
     "iopub.execute_input": "2023-04-13T14:29:04.963757Z",
     "iopub.status.busy": "2023-04-13T14:29:04.962908Z",
     "iopub.status.idle": "2023-04-13T14:29:04.973843Z",
     "shell.execute_reply": "2023-04-13T14:29:04.972050Z"
    },
    "papermill": {
     "duration": 0.032304,
     "end_time": "2023-04-13T14:29:04.976707",
     "exception": false,
     "start_time": "2023-04-13T14:29:04.944403",
     "status": "completed"
    },
    "tags": []
   },
   "outputs": [
    {
     "data": {
      "text/plain": [
       "pos    3926\n",
       "neg     224\n",
       "Name: sentiment, dtype: int64"
      ]
     },
     "execution_count": 16,
     "metadata": {},
     "output_type": "execute_result"
    }
   ],
   "source": [
    "data['sentiment'].value_counts()"
   ]
  },
  {
   "cell_type": "code",
   "execution_count": 17,
   "id": "f6d5b040",
   "metadata": {
    "execution": {
     "iopub.execute_input": "2023-04-13T14:29:05.017689Z",
     "iopub.status.busy": "2023-04-13T14:29:05.017254Z",
     "iopub.status.idle": "2023-04-13T14:29:05.026988Z",
     "shell.execute_reply": "2023-04-13T14:29:05.025875Z"
    },
    "papermill": {
     "duration": 0.03684,
     "end_time": "2023-04-13T14:29:05.029432",
     "exception": false,
     "start_time": "2023-04-13T14:29:04.992592",
     "status": "completed"
    },
    "tags": []
   },
   "outputs": [],
   "source": [
    "data.loc[data[\"sentiment\"] == \"neg\", \"sentiment\"] = 0\n",
    "data.loc[data[\"sentiment\"] == \"pos\", \"sentiment\"] = 1"
   ]
  },
  {
   "cell_type": "code",
   "execution_count": 18,
   "id": "16aa64e9",
   "metadata": {
    "execution": {
     "iopub.execute_input": "2023-04-13T14:29:05.064000Z",
     "iopub.status.busy": "2023-04-13T14:29:05.062889Z",
     "iopub.status.idle": "2023-04-13T14:29:05.072876Z",
     "shell.execute_reply": "2023-04-13T14:29:05.071554Z"
    },
    "papermill": {
     "duration": 0.029673,
     "end_time": "2023-04-13T14:29:05.075340",
     "exception": false,
     "start_time": "2023-04-13T14:29:05.045667",
     "status": "completed"
    },
    "tags": []
   },
   "outputs": [
    {
     "data": {
      "text/plain": [
       "1    3926\n",
       "0     224\n",
       "Name: sentiment, dtype: int64"
      ]
     },
     "execution_count": 18,
     "metadata": {},
     "output_type": "execute_result"
    }
   ],
   "source": [
    "data['sentiment'].value_counts()"
   ]
  },
  {
   "cell_type": "code",
   "execution_count": 19,
   "id": "34f44c98",
   "metadata": {
    "execution": {
     "iopub.execute_input": "2023-04-13T14:29:05.110202Z",
     "iopub.status.busy": "2023-04-13T14:29:05.109365Z",
     "iopub.status.idle": "2023-04-13T14:29:05.120352Z",
     "shell.execute_reply": "2023-04-13T14:29:05.119313Z"
    },
    "papermill": {
     "duration": 0.031958,
     "end_time": "2023-04-13T14:29:05.123845",
     "exception": false,
     "start_time": "2023-04-13T14:29:05.091887",
     "status": "completed"
    },
    "tags": []
   },
   "outputs": [],
   "source": [
    "data = data.astype({\"sentiment\": int})"
   ]
  },
  {
   "cell_type": "code",
   "execution_count": 20,
   "id": "c5c05862",
   "metadata": {
    "execution": {
     "iopub.execute_input": "2023-04-13T14:29:05.159316Z",
     "iopub.status.busy": "2023-04-13T14:29:05.158499Z",
     "iopub.status.idle": "2023-04-13T14:29:05.461946Z",
     "shell.execute_reply": "2023-04-13T14:29:05.460294Z"
    },
    "papermill": {
     "duration": 0.325249,
     "end_time": "2023-04-13T14:29:05.465042",
     "exception": false,
     "start_time": "2023-04-13T14:29:05.139793",
     "status": "completed"
    },
    "tags": []
   },
   "outputs": [
    {
     "data": {
      "image/png": "[encoded data removed]",
      "text/plain": [
       "<Figure size 600x600 with 1 Axes>"
      ]
     },
     "metadata": {},
     "output_type": "display_data"
    }
   ],
   "source": [
    "data['sentiment'].value_counts().plot.pie(figsize=(6,6),title=\"Distribution of reviews per sentiment\",labels=['',''],autopct='%1.1f%%')\n",
    "labels=[\"Positive\",\"Negative\"]\n",
    "plt.legend(labels,loc=3)\n",
    "plt.gca().set_aspect('equal')"
   ]
  },
  {
   "cell_type": "markdown",
   "id": "407c1843",
   "metadata": {
    "papermill": {
     "duration": 0.016345,
     "end_time": "2023-04-13T14:29:05.498709",
     "exception": false,
     "start_time": "2023-04-13T14:29:05.482364",
     "status": "completed"
    },
    "tags": []
   },
   "source": [
    "# 3 Data Pre-processing"
   ]
  },
  {
   "cell_type": "markdown",
   "id": "c0afa4e1",
   "metadata": {
    "papermill": {
     "duration": 0.018027,
     "end_time": "2023-04-13T14:29:05.533167",
     "exception": false,
     "start_time": "2023-04-13T14:29:05.515140",
     "status": "completed"
    },
    "tags": []
   },
   "source": [
    "## 3.1 Cleaning Data"
   ]
  },
  {
   "cell_type": "code",
   "execution_count": 21,
   "id": "94f3b5d7",
   "metadata": {
    "execution": {
     "iopub.execute_input": "2023-04-13T14:29:05.569737Z",
     "iopub.status.busy": "2023-04-13T14:29:05.569058Z",
     "iopub.status.idle": "2023-04-13T14:29:05.764700Z",
     "shell.execute_reply": "2023-04-13T14:29:05.763321Z"
    },
    "papermill": {
     "duration": 0.216983,
     "end_time": "2023-04-13T14:29:05.767867",
     "exception": false,
     "start_time": "2023-04-13T14:29:05.550884",
     "status": "completed"
    },
    "tags": []
   },
   "outputs": [],
   "source": [
    "# Cleaning data\n",
    "def remove(tweet):\n",
    "  #remove mention\n",
    "  tweet = re.sub(\"@[A-Za-z0-9_]+\",\"\", tweet)\n",
    "  # remove stock market tickers like $GE\n",
    "  tweet = re.sub(r'\\$\\w*', '', tweet)\n",
    "  # remove old style retweet text \"RT\"\n",
    "  tweet = re.sub(r'^RT[\\s]+', '', tweet)\n",
    "  tweet = re.sub(r'^rt[\\s]+', '', tweet)\n",
    "  # remove hyperlinks\n",
    "  tweet = re.sub(r'https?:\\/\\/.*[\\r\\n]*', '', tweet)\n",
    "  tweet = re.sub(r'^https[\\s]+', '', tweet)\n",
    "  # remove hashtags\n",
    "  # only removing the hash # sign from the word\n",
    "  tweet = re.sub(r'#', '', tweet)\n",
    "  tweet = re.sub(r'%', '', tweet)\n",
    "  #remove coma\n",
    "  tweet = re.sub(r',','',tweet)\n",
    "  #remove angka\n",
    "  tweet = re.sub('[0-9]+', '', tweet)\n",
    "  tweet = re.sub(r':', '', tweet)\n",
    "  #remove space\n",
    "  tweet = tweet.strip()\n",
    "  #remove double space\n",
    "  tweet = re.sub('\\s+',' ',tweet)\n",
    "  return tweet\n",
    "  \n",
    "data['cleaning_data'] = data['Review_Text'].apply(lambda x: remove(x.lower()))"
   ]
  },
  {
   "cell_type": "code",
   "execution_count": 22,
   "id": "5f1e8988",
   "metadata": {
    "execution": {
     "iopub.execute_input": "2023-04-13T14:29:05.803979Z",
     "iopub.status.busy": "2023-04-13T14:29:05.803253Z",
     "iopub.status.idle": "2023-04-13T14:29:05.817096Z",
     "shell.execute_reply": "2023-04-13T14:29:05.815767Z"
    },
    "papermill": {
     "duration": 0.035081,
     "end_time": "2023-04-13T14:29:05.819874",
     "exception": false,
     "start_time": "2023-04-13T14:29:05.784793",
     "status": "completed"
    },
    "tags": []
   },
   "outputs": [],
   "source": [
    "data.drop_duplicates(subset =\"cleaning_data\", keep = 'first', inplace = True)"
   ]
  },
  {
   "cell_type": "code",
   "execution_count": 23,
   "id": "8a95a1d3",
   "metadata": {
    "execution": {
     "iopub.execute_input": "2023-04-13T14:29:05.856535Z",
     "iopub.status.busy": "2023-04-13T14:29:05.856047Z",
     "iopub.status.idle": "2023-04-13T14:29:05.890380Z",
     "shell.execute_reply": "2023-04-13T14:29:05.888931Z"
    },
    "papermill": {
     "duration": 0.055304,
     "end_time": "2023-04-13T14:29:05.893103",
     "exception": false,
     "start_time": "2023-04-13T14:29:05.837799",
     "status": "completed"
    },
    "tags": []
   },
   "outputs": [
    {
     "data": {
      "text/html": [
       "<div>\n",
       "<style scoped>\n",
       "    .dataframe tbody tr th:only-of-type {\n",
       "        vertical-align: middle;\n",
       "    }\n",
       "\n",
       "    .dataframe tbody tr th {\n",
       "        vertical-align: top;\n",
       "    }\n",
       "\n",
       "    .dataframe thead th {\n",
       "        text-align: right;\n",
       "    }\n",
       "</style>\n",
       "<table border=\"1\" class=\"dataframe\">\n",
       "  <thead>\n",
       "    <tr style=\"text-align: right;\">\n",
       "      <th></th>\n",
       "      <th>Review_Title</th>\n",
       "      <th>Review_Text</th>\n",
       "      <th>Verified_Buyer</th>\n",
       "      <th>Review_Date</th>\n",
       "      <th>Review_Location</th>\n",
       "      <th>Review_Upvotes</th>\n",
       "      <th>Review_Downvotes</th>\n",
       "      <th>Product</th>\n",
       "      <th>Brand</th>\n",
       "      <th>Scrape_Date</th>\n",
       "      <th>score</th>\n",
       "      <th>compound</th>\n",
       "      <th>sentiment</th>\n",
       "      <th>cleaning_data</th>\n",
       "    </tr>\n",
       "  </thead>\n",
       "  <tbody>\n",
       "    <tr>\n",
       "      <th>0</th>\n",
       "      <td>Perfect</td>\n",
       "      <td>Love using this on my face while in the shower...</td>\n",
       "      <td>No</td>\n",
       "      <td>15 days ago</td>\n",
       "      <td>Undisclosed</td>\n",
       "      <td>0</td>\n",
       "      <td>0</td>\n",
       "      <td>Multi-Vitamin Thermafoliant</td>\n",
       "      <td>Dermalogica</td>\n",
       "      <td>3/27/23</td>\n",
       "      <td>{'neg': 0.0, 'neu': 0.693, 'pos': 0.307, 'comp...</td>\n",
       "      <td>0.7964</td>\n",
       "      <td>1</td>\n",
       "      <td>love using this on my face while in the shower...</td>\n",
       "    </tr>\n",
       "    <tr>\n",
       "      <th>1</th>\n",
       "      <td>You need this</td>\n",
       "      <td>Even better than the daily microfoliant. I'm o...</td>\n",
       "      <td>No</td>\n",
       "      <td>27 days ago</td>\n",
       "      <td>Undisclosed</td>\n",
       "      <td>0</td>\n",
       "      <td>0</td>\n",
       "      <td>Multi-Vitamin Thermafoliant</td>\n",
       "      <td>Dermalogica</td>\n",
       "      <td>3/27/23</td>\n",
       "      <td>{'neg': 0.102, 'neu': 0.723, 'pos': 0.175, 'co...</td>\n",
       "      <td>0.2960</td>\n",
       "      <td>1</td>\n",
       "      <td>even better than the daily microfoliant. i'm o...</td>\n",
       "    </tr>\n",
       "    <tr>\n",
       "      <th>2</th>\n",
       "      <td>Clean skin</td>\n",
       "      <td>Enjoy this product so much ! I look forward to...</td>\n",
       "      <td>No</td>\n",
       "      <td>2 months ago</td>\n",
       "      <td>Undisclosed</td>\n",
       "      <td>0</td>\n",
       "      <td>0</td>\n",
       "      <td>Multi-Vitamin Thermafoliant</td>\n",
       "      <td>Dermalogica</td>\n",
       "      <td>3/27/23</td>\n",
       "      <td>{'neg': 0.0, 'neu': 0.64, 'pos': 0.36, 'compou...</td>\n",
       "      <td>0.8347</td>\n",
       "      <td>1</td>\n",
       "      <td>enjoy this product so much ! i look forward to...</td>\n",
       "    </tr>\n",
       "    <tr>\n",
       "      <th>3</th>\n",
       "      <td>Love This Stuff!</td>\n",
       "      <td>I've never tried anything like this before and...</td>\n",
       "      <td>No</td>\n",
       "      <td>2 months ago</td>\n",
       "      <td>Undisclosed</td>\n",
       "      <td>0</td>\n",
       "      <td>0</td>\n",
       "      <td>Multi-Vitamin Thermafoliant</td>\n",
       "      <td>Dermalogica</td>\n",
       "      <td>3/27/23</td>\n",
       "      <td>{'neg': 0.029, 'neu': 0.758, 'pos': 0.212, 'co...</td>\n",
       "      <td>0.8636</td>\n",
       "      <td>1</td>\n",
       "      <td>i've never tried anything like this before and...</td>\n",
       "    </tr>\n",
       "    <tr>\n",
       "      <th>4</th>\n",
       "      <td>This exfoliates very nicely and</td>\n",
       "      <td>This exfoliates very nicely and gives a very s...</td>\n",
       "      <td>No</td>\n",
       "      <td>2 months ago</td>\n",
       "      <td>Undisclosed</td>\n",
       "      <td>0</td>\n",
       "      <td>0</td>\n",
       "      <td>Multi-Vitamin Thermafoliant</td>\n",
       "      <td>Dermalogica</td>\n",
       "      <td>3/27/23</td>\n",
       "      <td>{'neg': 0.061, 'neu': 0.718, 'pos': 0.221, 'co...</td>\n",
       "      <td>0.6992</td>\n",
       "      <td>1</td>\n",
       "      <td>this exfoliates very nicely and gives a very s...</td>\n",
       "    </tr>\n",
       "    <tr>\n",
       "      <th>...</th>\n",
       "      <td>...</td>\n",
       "      <td>...</td>\n",
       "      <td>...</td>\n",
       "      <td>...</td>\n",
       "      <td>...</td>\n",
       "      <td>...</td>\n",
       "      <td>...</td>\n",
       "      <td>...</td>\n",
       "      <td>...</td>\n",
       "      <td>...</td>\n",
       "      <td>...</td>\n",
       "      <td>...</td>\n",
       "      <td>...</td>\n",
       "      <td>...</td>\n",
       "    </tr>\n",
       "    <tr>\n",
       "      <th>4145</th>\n",
       "      <td>I would buy this product again</td>\n",
       "      <td>Much better product than a scrub.</td>\n",
       "      <td>Yes</td>\n",
       "      <td>7 years ago</td>\n",
       "      <td>vernon hills, il</td>\n",
       "      <td>0</td>\n",
       "      <td>1</td>\n",
       "      <td>Daily Microfoliant</td>\n",
       "      <td>Dermalogica</td>\n",
       "      <td>3/27/23</td>\n",
       "      <td>{'neg': 0.0, 'neu': 0.633, 'pos': 0.367, 'comp...</td>\n",
       "      <td>0.4404</td>\n",
       "      <td>1</td>\n",
       "      <td>much better product than a scrub.</td>\n",
       "    </tr>\n",
       "    <tr>\n",
       "      <th>4146</th>\n",
       "      <td>Gentle exfoliant- leaves skin smooth &amp; soft</td>\n",
       "      <td>I've been using this exfoliant for a few month...</td>\n",
       "      <td>No</td>\n",
       "      <td>7 years ago</td>\n",
       "      <td>Humboldt, CA</td>\n",
       "      <td>1</td>\n",
       "      <td>0</td>\n",
       "      <td>Daily Microfoliant</td>\n",
       "      <td>Dermalogica</td>\n",
       "      <td>3/27/23</td>\n",
       "      <td>{'neg': 0.063, 'neu': 0.808, 'pos': 0.128, 'co...</td>\n",
       "      <td>0.8064</td>\n",
       "      <td>1</td>\n",
       "      <td>i've been using this exfoliant for a few month...</td>\n",
       "    </tr>\n",
       "    <tr>\n",
       "      <th>4147</th>\n",
       "      <td>One of my favorite skincare products of all time.</td>\n",
       "      <td>My skin looks better now than 10 years ago.</td>\n",
       "      <td>Yes</td>\n",
       "      <td>7 years ago</td>\n",
       "      <td>Albuquerque, NM</td>\n",
       "      <td>2</td>\n",
       "      <td>1</td>\n",
       "      <td>Daily Microfoliant</td>\n",
       "      <td>Dermalogica</td>\n",
       "      <td>3/27/23</td>\n",
       "      <td>{'neg': 0.0, 'neu': 0.734, 'pos': 0.266, 'comp...</td>\n",
       "      <td>0.4404</td>\n",
       "      <td>1</td>\n",
       "      <td>my skin looks better now than years ago.</td>\n",
       "    </tr>\n",
       "    <tr>\n",
       "      <th>4148</th>\n",
       "      <td>Ehhh...</td>\n",
       "      <td>This product was useless for me. I should've k...</td>\n",
       "      <td>Yes</td>\n",
       "      <td>7 years ago</td>\n",
       "      <td>Fayetteville</td>\n",
       "      <td>1</td>\n",
       "      <td>1</td>\n",
       "      <td>Daily Microfoliant</td>\n",
       "      <td>Dermalogica</td>\n",
       "      <td>3/27/23</td>\n",
       "      <td>{'neg': 0.106, 'neu': 0.8, 'pos': 0.094, 'comp...</td>\n",
       "      <td>0.0518</td>\n",
       "      <td>1</td>\n",
       "      <td>this product was useless for me. i should've k...</td>\n",
       "    </tr>\n",
       "    <tr>\n",
       "      <th>4149</th>\n",
       "      <td>This is the best!!!</td>\n",
       "      <td>This product is amazing! It is the only thing ...</td>\n",
       "      <td>Yes</td>\n",
       "      <td>7 years ago</td>\n",
       "      <td>Mississippi</td>\n",
       "      <td>1</td>\n",
       "      <td>1</td>\n",
       "      <td>Daily Microfoliant</td>\n",
       "      <td>Dermalogica</td>\n",
       "      <td>3/27/23</td>\n",
       "      <td>{'neg': 0.0, 'neu': 0.799, 'pos': 0.201, 'comp...</td>\n",
       "      <td>0.8209</td>\n",
       "      <td>1</td>\n",
       "      <td>this product is amazing! it is the only thing ...</td>\n",
       "    </tr>\n",
       "  </tbody>\n",
       "</table>\n",
       "<p>3653 rows × 14 columns</p>\n",
       "</div>"
      ],
      "text/plain": [
       "                                           Review_Title  \\\n",
       "0                                               Perfect   \n",
       "1                                         You need this   \n",
       "2                                            Clean skin   \n",
       "3                                      Love This Stuff!   \n",
       "4                       This exfoliates very nicely and   \n",
       "...                                                 ...   \n",
       "4145                     I would buy this product again   \n",
       "4146        Gentle exfoliant- leaves skin smooth & soft   \n",
       "4147  One of my favorite skincare products of all time.   \n",
       "4148                                            Ehhh...   \n",
       "4149                                This is the best!!!   \n",
       "\n",
       "                                            Review_Text Verified_Buyer  \\\n",
       "0     Love using this on my face while in the shower...             No   \n",
       "1     Even better than the daily microfoliant. I'm o...             No   \n",
       "2     Enjoy this product so much ! I look forward to...             No   \n",
       "3     I've never tried anything like this before and...             No   \n",
       "4     This exfoliates very nicely and gives a very s...             No   \n",
       "...                                                 ...            ...   \n",
       "4145                  Much better product than a scrub.            Yes   \n",
       "4146  I've been using this exfoliant for a few month...             No   \n",
       "4147        My skin looks better now than 10 years ago.            Yes   \n",
       "4148  This product was useless for me. I should've k...            Yes   \n",
       "4149  This product is amazing! It is the only thing ...            Yes   \n",
       "\n",
       "       Review_Date   Review_Location  Review_Upvotes  Review_Downvotes  \\\n",
       "0      15 days ago       Undisclosed               0                 0   \n",
       "1      27 days ago       Undisclosed               0                 0   \n",
       "2     2 months ago       Undisclosed               0                 0   \n",
       "3     2 months ago       Undisclosed               0                 0   \n",
       "4     2 months ago       Undisclosed               0                 0   \n",
       "...            ...               ...             ...               ...   \n",
       "4145   7 years ago  vernon hills, il               0                 1   \n",
       "4146   7 years ago      Humboldt, CA               1                 0   \n",
       "4147   7 years ago   Albuquerque, NM               2                 1   \n",
       "4148   7 years ago      Fayetteville               1                 1   \n",
       "4149   7 years ago       Mississippi               1                 1   \n",
       "\n",
       "                          Product        Brand Scrape_Date  \\\n",
       "0     Multi-Vitamin Thermafoliant  Dermalogica     3/27/23   \n",
       "1     Multi-Vitamin Thermafoliant  Dermalogica     3/27/23   \n",
       "2     Multi-Vitamin Thermafoliant  Dermalogica     3/27/23   \n",
       "3     Multi-Vitamin Thermafoliant  Dermalogica     3/27/23   \n",
       "4     Multi-Vitamin Thermafoliant  Dermalogica     3/27/23   \n",
       "...                           ...          ...         ...   \n",
       "4145           Daily Microfoliant  Dermalogica     3/27/23   \n",
       "4146           Daily Microfoliant  Dermalogica     3/27/23   \n",
       "4147           Daily Microfoliant  Dermalogica     3/27/23   \n",
       "4148           Daily Microfoliant  Dermalogica     3/27/23   \n",
       "4149           Daily Microfoliant  Dermalogica     3/27/23   \n",
       "\n",
       "                                                  score  compound  sentiment  \\\n",
       "0     {'neg': 0.0, 'neu': 0.693, 'pos': 0.307, 'comp...    0.7964          1   \n",
       "1     {'neg': 0.102, 'neu': 0.723, 'pos': 0.175, 'co...    0.2960          1   \n",
       "2     {'neg': 0.0, 'neu': 0.64, 'pos': 0.36, 'compou...    0.8347          1   \n",
       "3     {'neg': 0.029, 'neu': 0.758, 'pos': 0.212, 'co...    0.8636          1   \n",
       "4     {'neg': 0.061, 'neu': 0.718, 'pos': 0.221, 'co...    0.6992          1   \n",
       "...                                                 ...       ...        ...   \n",
       "4145  {'neg': 0.0, 'neu': 0.633, 'pos': 0.367, 'comp...    0.4404          1   \n",
       "4146  {'neg': 0.063, 'neu': 0.808, 'pos': 0.128, 'co...    0.8064          1   \n",
       "4147  {'neg': 0.0, 'neu': 0.734, 'pos': 0.266, 'comp...    0.4404          1   \n",
       "4148  {'neg': 0.106, 'neu': 0.8, 'pos': 0.094, 'comp...    0.0518          1   \n",
       "4149  {'neg': 0.0, 'neu': 0.799, 'pos': 0.201, 'comp...    0.8209          1   \n",
       "\n",
       "                                          cleaning_data  \n",
       "0     love using this on my face while in the shower...  \n",
       "1     even better than the daily microfoliant. i'm o...  \n",
       "2     enjoy this product so much ! i look forward to...  \n",
       "3     i've never tried anything like this before and...  \n",
       "4     this exfoliates very nicely and gives a very s...  \n",
       "...                                                 ...  \n",
       "4145                  much better product than a scrub.  \n",
       "4146  i've been using this exfoliant for a few month...  \n",
       "4147           my skin looks better now than years ago.  \n",
       "4148  this product was useless for me. i should've k...  \n",
       "4149  this product is amazing! it is the only thing ...  \n",
       "\n",
       "[3653 rows x 14 columns]"
      ]
     },
     "execution_count": 23,
     "metadata": {},
     "output_type": "execute_result"
    }
   ],
   "source": [
    "data"
   ]
  },
  {
   "cell_type": "markdown",
   "id": "15c31153",
   "metadata": {
    "papermill": {
     "duration": 0.017147,
     "end_time": "2023-04-13T14:29:05.928245",
     "exception": false,
     "start_time": "2023-04-13T14:29:05.911098",
     "status": "completed"
    },
    "tags": []
   },
   "source": [
    "## 3.2 Remove Stopwords"
   ]
  },
  {
   "cell_type": "code",
   "execution_count": 24,
   "id": "fffb50bd",
   "metadata": {
    "execution": {
     "iopub.execute_input": "2023-04-13T14:29:05.967191Z",
     "iopub.status.busy": "2023-04-13T14:29:05.966335Z",
     "iopub.status.idle": "2023-04-13T14:29:06.019097Z",
     "shell.execute_reply": "2023-04-13T14:29:06.017548Z"
    },
    "papermill": {
     "duration": 0.0758,
     "end_time": "2023-04-13T14:29:06.022123",
     "exception": false,
     "start_time": "2023-04-13T14:29:05.946323",
     "status": "completed"
    },
    "tags": []
   },
   "outputs": [],
   "source": [
    "from nltk.corpus import stopwords\n",
    "\n",
    "stopword = set(stopwords.words('english'))\n",
    "def clean_stopwords(text):\n",
    "    text = ' '.join(word for word in text.split() if word not in stopword)\n",
    "    return text\n",
    "  \n",
    "data['tweet_sw'] = data['cleaning_data'].apply(clean_stopwords)"
   ]
  },
  {
   "cell_type": "markdown",
   "id": "d6f7f052",
   "metadata": {
    "papermill": {
     "duration": 0.017265,
     "end_time": "2023-04-13T14:29:06.057841",
     "exception": false,
     "start_time": "2023-04-13T14:29:06.040576",
     "status": "completed"
    },
    "tags": []
   },
   "source": [
    "## 3.3 Stemming"
   ]
  },
  {
   "cell_type": "code",
   "execution_count": 25,
   "id": "44dc89e8",
   "metadata": {
    "execution": {
     "iopub.execute_input": "2023-04-13T14:29:06.094871Z",
     "iopub.status.busy": "2023-04-13T14:29:06.094079Z",
     "iopub.status.idle": "2023-04-13T14:29:08.693846Z",
     "shell.execute_reply": "2023-04-13T14:29:08.692270Z"
    },
    "papermill": {
     "duration": 2.62284,
     "end_time": "2023-04-13T14:29:08.697765",
     "exception": false,
     "start_time": "2023-04-13T14:29:06.074925",
     "status": "completed"
    },
    "tags": []
   },
   "outputs": [],
   "source": [
    "from nltk.stem import PorterStemmer\n",
    "ps = PorterStemmer()\n",
    "def porterstemmer(text):\n",
    "  text = ' '.join(ps.stem(word) for word in text.split() if word in text)\n",
    "  return text  \n",
    "data['tweet_stem'] = data['tweet_sw'].apply(porterstemmer)"
   ]
  },
  {
   "cell_type": "markdown",
   "id": "864f12ba",
   "metadata": {
    "papermill": {
     "duration": 0.017255,
     "end_time": "2023-04-13T14:29:08.732162",
     "exception": false,
     "start_time": "2023-04-13T14:29:08.714907",
     "status": "completed"
    },
    "tags": []
   },
   "source": [
    "## 3.4 Lemmatization"
   ]
  },
  {
   "cell_type": "code",
   "execution_count": 26,
   "id": "fb3a5113",
   "metadata": {
    "execution": {
     "iopub.execute_input": "2023-04-13T14:29:08.770564Z",
     "iopub.status.busy": "2023-04-13T14:29:08.770113Z",
     "iopub.status.idle": "2023-04-13T14:29:24.398338Z",
     "shell.execute_reply": "2023-04-13T14:29:24.397025Z"
    },
    "papermill": {
     "duration": 15.651632,
     "end_time": "2023-04-13T14:29:24.401496",
     "exception": false,
     "start_time": "2023-04-13T14:29:08.749864",
     "status": "completed"
    },
    "tags": []
   },
   "outputs": [],
   "source": [
    "import spacy\n",
    "nlp = spacy.load('en_core_web_sm')"
   ]
  },
  {
   "cell_type": "code",
   "execution_count": 27,
   "id": "d4ecd9b7",
   "metadata": {
    "execution": {
     "iopub.execute_input": "2023-04-13T14:29:24.438891Z",
     "iopub.status.busy": "2023-04-13T14:29:24.437831Z",
     "iopub.status.idle": "2023-04-13T14:30:03.430398Z",
     "shell.execute_reply": "2023-04-13T14:30:03.428895Z"
    },
    "papermill": {
     "duration": 39.014251,
     "end_time": "2023-04-13T14:30:03.433372",
     "exception": false,
     "start_time": "2023-04-13T14:29:24.419121",
     "status": "completed"
    },
    "tags": []
   },
   "outputs": [],
   "source": [
    "def lemmatization (text):\n",
    "    doc = nlp(text)\n",
    "    tokens = [token.lemma_.lower() for token in doc if not token.is_stop and not token.is_punct]\n",
    "    return ' '.join(tokens)\n",
    "data['tweet_clean'] = data['tweet_stem'].apply(lemmatization)"
   ]
  },
  {
   "cell_type": "markdown",
   "id": "faa43461",
   "metadata": {
    "papermill": {
     "duration": 0.018442,
     "end_time": "2023-04-13T14:30:03.469257",
     "exception": false,
     "start_time": "2023-04-13T14:30:03.450815",
     "status": "completed"
    },
    "tags": []
   },
   "source": [
    "## 3.5 Data Final"
   ]
  },
  {
   "cell_type": "code",
   "execution_count": 28,
   "id": "a0c42cad",
   "metadata": {
    "execution": {
     "iopub.execute_input": "2023-04-13T14:30:03.506181Z",
     "iopub.status.busy": "2023-04-13T14:30:03.505669Z",
     "iopub.status.idle": "2023-04-13T14:30:03.540815Z",
     "shell.execute_reply": "2023-04-13T14:30:03.539711Z"
    },
    "papermill": {
     "duration": 0.056387,
     "end_time": "2023-04-13T14:30:03.543352",
     "exception": false,
     "start_time": "2023-04-13T14:30:03.486965",
     "status": "completed"
    },
    "tags": []
   },
   "outputs": [
    {
     "data": {
      "text/html": [
       "<div>\n",
       "<style scoped>\n",
       "    .dataframe tbody tr th:only-of-type {\n",
       "        vertical-align: middle;\n",
       "    }\n",
       "\n",
       "    .dataframe tbody tr th {\n",
       "        vertical-align: top;\n",
       "    }\n",
       "\n",
       "    .dataframe thead th {\n",
       "        text-align: right;\n",
       "    }\n",
       "</style>\n",
       "<table border=\"1\" class=\"dataframe\">\n",
       "  <thead>\n",
       "    <tr style=\"text-align: right;\">\n",
       "      <th></th>\n",
       "      <th>Review_Title</th>\n",
       "      <th>Review_Text</th>\n",
       "      <th>Verified_Buyer</th>\n",
       "      <th>Review_Date</th>\n",
       "      <th>Review_Location</th>\n",
       "      <th>Review_Upvotes</th>\n",
       "      <th>Review_Downvotes</th>\n",
       "      <th>Product</th>\n",
       "      <th>Brand</th>\n",
       "      <th>Scrape_Date</th>\n",
       "      <th>score</th>\n",
       "      <th>compound</th>\n",
       "      <th>sentiment</th>\n",
       "      <th>cleaning_data</th>\n",
       "      <th>tweet_sw</th>\n",
       "      <th>tweet_stem</th>\n",
       "      <th>tweet_clean</th>\n",
       "    </tr>\n",
       "  </thead>\n",
       "  <tbody>\n",
       "    <tr>\n",
       "      <th>0</th>\n",
       "      <td>Perfect</td>\n",
       "      <td>Love using this on my face while in the shower...</td>\n",
       "      <td>No</td>\n",
       "      <td>15 days ago</td>\n",
       "      <td>Undisclosed</td>\n",
       "      <td>0</td>\n",
       "      <td>0</td>\n",
       "      <td>Multi-Vitamin Thermafoliant</td>\n",
       "      <td>Dermalogica</td>\n",
       "      <td>3/27/23</td>\n",
       "      <td>{'neg': 0.0, 'neu': 0.693, 'pos': 0.307, 'comp...</td>\n",
       "      <td>0.7964</td>\n",
       "      <td>1</td>\n",
       "      <td>love using this on my face while in the shower...</td>\n",
       "      <td>love using face shower. heats gives light scru...</td>\n",
       "      <td>love use face shower. heat give light scrub nice</td>\n",
       "      <td>love use face shower heat light scrub nice</td>\n",
       "    </tr>\n",
       "    <tr>\n",
       "      <th>1</th>\n",
       "      <td>You need this</td>\n",
       "      <td>Even better than the daily microfoliant. I'm o...</td>\n",
       "      <td>No</td>\n",
       "      <td>27 days ago</td>\n",
       "      <td>Undisclosed</td>\n",
       "      <td>0</td>\n",
       "      <td>0</td>\n",
       "      <td>Multi-Vitamin Thermafoliant</td>\n",
       "      <td>Dermalogica</td>\n",
       "      <td>3/27/23</td>\n",
       "      <td>{'neg': 0.102, 'neu': 0.723, 'pos': 0.175, 'co...</td>\n",
       "      <td>0.2960</td>\n",
       "      <td>1</td>\n",
       "      <td>even better than the daily microfoliant. i'm o...</td>\n",
       "      <td>even better daily microfoliant. i'm obsessed. ...</td>\n",
       "      <td>even better daili microfoliant. i'm obsessed. ...</td>\n",
       "      <td>well daili microfoliant obsess skin smooth</td>\n",
       "    </tr>\n",
       "    <tr>\n",
       "      <th>2</th>\n",
       "      <td>Clean skin</td>\n",
       "      <td>Enjoy this product so much ! I look forward to...</td>\n",
       "      <td>No</td>\n",
       "      <td>2 months ago</td>\n",
       "      <td>Undisclosed</td>\n",
       "      <td>0</td>\n",
       "      <td>0</td>\n",
       "      <td>Multi-Vitamin Thermafoliant</td>\n",
       "      <td>Dermalogica</td>\n",
       "      <td>3/27/23</td>\n",
       "      <td>{'neg': 0.0, 'neu': 0.64, 'pos': 0.36, 'compou...</td>\n",
       "      <td>0.8347</td>\n",
       "      <td>1</td>\n",
       "      <td>enjoy this product so much ! i look forward to...</td>\n",
       "      <td>enjoy product much ! look forward using - real...</td>\n",
       "      <td>enjoy product much ! look forward use - realli...</td>\n",
       "      <td>enjoy product look forward use realli feel great</td>\n",
       "    </tr>\n",
       "    <tr>\n",
       "      <th>3</th>\n",
       "      <td>Love This Stuff!</td>\n",
       "      <td>I've never tried anything like this before and...</td>\n",
       "      <td>No</td>\n",
       "      <td>2 months ago</td>\n",
       "      <td>Undisclosed</td>\n",
       "      <td>0</td>\n",
       "      <td>0</td>\n",
       "      <td>Multi-Vitamin Thermafoliant</td>\n",
       "      <td>Dermalogica</td>\n",
       "      <td>3/27/23</td>\n",
       "      <td>{'neg': 0.029, 'neu': 0.758, 'pos': 0.212, 'co...</td>\n",
       "      <td>0.8636</td>\n",
       "      <td>1</td>\n",
       "      <td>i've never tried anything like this before and...</td>\n",
       "      <td>i've never tried anything like love it. apply ...</td>\n",
       "      <td>i'v never tri anyth like love it. appli face g...</td>\n",
       "      <td>i'v tri anyth like love appli face littl shoot...</td>\n",
       "    </tr>\n",
       "    <tr>\n",
       "      <th>4</th>\n",
       "      <td>This exfoliates very nicely and</td>\n",
       "      <td>This exfoliates very nicely and gives a very s...</td>\n",
       "      <td>No</td>\n",
       "      <td>2 months ago</td>\n",
       "      <td>Undisclosed</td>\n",
       "      <td>0</td>\n",
       "      <td>0</td>\n",
       "      <td>Multi-Vitamin Thermafoliant</td>\n",
       "      <td>Dermalogica</td>\n",
       "      <td>3/27/23</td>\n",
       "      <td>{'neg': 0.061, 'neu': 0.718, 'pos': 0.221, 'co...</td>\n",
       "      <td>0.6992</td>\n",
       "      <td>1</td>\n",
       "      <td>this exfoliates very nicely and gives a very s...</td>\n",
       "      <td>exfoliates nicely gives smooth skin irritation...</td>\n",
       "      <td>exfoli nice give smooth skin irrit reaction sk...</td>\n",
       "      <td>exfoli nice smooth skin irrit reaction skin hi...</td>\n",
       "    </tr>\n",
       "    <tr>\n",
       "      <th>...</th>\n",
       "      <td>...</td>\n",
       "      <td>...</td>\n",
       "      <td>...</td>\n",
       "      <td>...</td>\n",
       "      <td>...</td>\n",
       "      <td>...</td>\n",
       "      <td>...</td>\n",
       "      <td>...</td>\n",
       "      <td>...</td>\n",
       "      <td>...</td>\n",
       "      <td>...</td>\n",
       "      <td>...</td>\n",
       "      <td>...</td>\n",
       "      <td>...</td>\n",
       "      <td>...</td>\n",
       "      <td>...</td>\n",
       "      <td>...</td>\n",
       "    </tr>\n",
       "    <tr>\n",
       "      <th>4145</th>\n",
       "      <td>I would buy this product again</td>\n",
       "      <td>Much better product than a scrub.</td>\n",
       "      <td>Yes</td>\n",
       "      <td>7 years ago</td>\n",
       "      <td>vernon hills, il</td>\n",
       "      <td>0</td>\n",
       "      <td>1</td>\n",
       "      <td>Daily Microfoliant</td>\n",
       "      <td>Dermalogica</td>\n",
       "      <td>3/27/23</td>\n",
       "      <td>{'neg': 0.0, 'neu': 0.633, 'pos': 0.367, 'comp...</td>\n",
       "      <td>0.4404</td>\n",
       "      <td>1</td>\n",
       "      <td>much better product than a scrub.</td>\n",
       "      <td>much better product scrub.</td>\n",
       "      <td>much better product scrub.</td>\n",
       "      <td>well product scrub</td>\n",
       "    </tr>\n",
       "    <tr>\n",
       "      <th>4146</th>\n",
       "      <td>Gentle exfoliant- leaves skin smooth &amp; soft</td>\n",
       "      <td>I've been using this exfoliant for a few month...</td>\n",
       "      <td>No</td>\n",
       "      <td>7 years ago</td>\n",
       "      <td>Humboldt, CA</td>\n",
       "      <td>1</td>\n",
       "      <td>0</td>\n",
       "      <td>Daily Microfoliant</td>\n",
       "      <td>Dermalogica</td>\n",
       "      <td>3/27/23</td>\n",
       "      <td>{'neg': 0.063, 'neu': 0.808, 'pos': 0.128, 'co...</td>\n",
       "      <td>0.8064</td>\n",
       "      <td>1</td>\n",
       "      <td>i've been using this exfoliant for a few month...</td>\n",
       "      <td>i've using exfoliant months now. depending con...</td>\n",
       "      <td>i'v use exfoli month now. depend condit skin i...</td>\n",
       "      <td>i'v use exfoli month depend condit skin use an...</td>\n",
       "    </tr>\n",
       "    <tr>\n",
       "      <th>4147</th>\n",
       "      <td>One of my favorite skincare products of all time.</td>\n",
       "      <td>My skin looks better now than 10 years ago.</td>\n",
       "      <td>Yes</td>\n",
       "      <td>7 years ago</td>\n",
       "      <td>Albuquerque, NM</td>\n",
       "      <td>2</td>\n",
       "      <td>1</td>\n",
       "      <td>Daily Microfoliant</td>\n",
       "      <td>Dermalogica</td>\n",
       "      <td>3/27/23</td>\n",
       "      <td>{'neg': 0.0, 'neu': 0.734, 'pos': 0.266, 'comp...</td>\n",
       "      <td>0.4404</td>\n",
       "      <td>1</td>\n",
       "      <td>my skin looks better now than years ago.</td>\n",
       "      <td>skin looks better years ago.</td>\n",
       "      <td>skin look better year ago.</td>\n",
       "      <td>skin look well year ago</td>\n",
       "    </tr>\n",
       "    <tr>\n",
       "      <th>4148</th>\n",
       "      <td>Ehhh...</td>\n",
       "      <td>This product was useless for me. I should've k...</td>\n",
       "      <td>Yes</td>\n",
       "      <td>7 years ago</td>\n",
       "      <td>Fayetteville</td>\n",
       "      <td>1</td>\n",
       "      <td>1</td>\n",
       "      <td>Daily Microfoliant</td>\n",
       "      <td>Dermalogica</td>\n",
       "      <td>3/27/23</td>\n",
       "      <td>{'neg': 0.106, 'neu': 0.8, 'pos': 0.094, 'comp...</td>\n",
       "      <td>0.0518</td>\n",
       "      <td>1</td>\n",
       "      <td>this product was useless for me. i should've k...</td>\n",
       "      <td>product useless me. known exfoliant use daily ...</td>\n",
       "      <td>product useless me. known exfoli use daili wou...</td>\n",
       "      <td>product useless know exfoli use daili gentl wo...</td>\n",
       "    </tr>\n",
       "    <tr>\n",
       "      <th>4149</th>\n",
       "      <td>This is the best!!!</td>\n",
       "      <td>This product is amazing! It is the only thing ...</td>\n",
       "      <td>Yes</td>\n",
       "      <td>7 years ago</td>\n",
       "      <td>Mississippi</td>\n",
       "      <td>1</td>\n",
       "      <td>1</td>\n",
       "      <td>Daily Microfoliant</td>\n",
       "      <td>Dermalogica</td>\n",
       "      <td>3/27/23</td>\n",
       "      <td>{'neg': 0.0, 'neu': 0.799, 'pos': 0.201, 'comp...</td>\n",
       "      <td>0.8209</td>\n",
       "      <td>1</td>\n",
       "      <td>this product is amazing! it is the only thing ...</td>\n",
       "      <td>product amazing! thing helps dry patches cheek...</td>\n",
       "      <td>product amazing! thing help dri patch cheek al...</td>\n",
       "      <td>product amazing thing help dri patch cheek cle...</td>\n",
       "    </tr>\n",
       "  </tbody>\n",
       "</table>\n",
       "<p>3653 rows × 17 columns</p>\n",
       "</div>"
      ],
      "text/plain": [
       "                                           Review_Title  \\\n",
       "0                                               Perfect   \n",
       "1                                         You need this   \n",
       "2                                            Clean skin   \n",
       "3                                      Love This Stuff!   \n",
       "4                       This exfoliates very nicely and   \n",
       "...                                                 ...   \n",
       "4145                     I would buy this product again   \n",
       "4146        Gentle exfoliant- leaves skin smooth & soft   \n",
       "4147  One of my favorite skincare products of all time.   \n",
       "4148                                            Ehhh...   \n",
       "4149                                This is the best!!!   \n",
       "\n",
       "                                            Review_Text Verified_Buyer  \\\n",
       "0     Love using this on my face while in the shower...             No   \n",
       "1     Even better than the daily microfoliant. I'm o...             No   \n",
       "2     Enjoy this product so much ! I look forward to...             No   \n",
       "3     I've never tried anything like this before and...             No   \n",
       "4     This exfoliates very nicely and gives a very s...             No   \n",
       "...                                                 ...            ...   \n",
       "4145                  Much better product than a scrub.            Yes   \n",
       "4146  I've been using this exfoliant for a few month...             No   \n",
       "4147        My skin looks better now than 10 years ago.            Yes   \n",
       "4148  This product was useless for me. I should've k...            Yes   \n",
       "4149  This product is amazing! It is the only thing ...            Yes   \n",
       "\n",
       "       Review_Date   Review_Location  Review_Upvotes  Review_Downvotes  \\\n",
       "0      15 days ago       Undisclosed               0                 0   \n",
       "1      27 days ago       Undisclosed               0                 0   \n",
       "2     2 months ago       Undisclosed               0                 0   \n",
       "3     2 months ago       Undisclosed               0                 0   \n",
       "4     2 months ago       Undisclosed               0                 0   \n",
       "...            ...               ...             ...               ...   \n",
       "4145   7 years ago  vernon hills, il               0                 1   \n",
       "4146   7 years ago      Humboldt, CA               1                 0   \n",
       "4147   7 years ago   Albuquerque, NM               2                 1   \n",
       "4148   7 years ago      Fayetteville               1                 1   \n",
       "4149   7 years ago       Mississippi               1                 1   \n",
       "\n",
       "                          Product        Brand Scrape_Date  \\\n",
       "0     Multi-Vitamin Thermafoliant  Dermalogica     3/27/23   \n",
       "1     Multi-Vitamin Thermafoliant  Dermalogica     3/27/23   \n",
       "2     Multi-Vitamin Thermafoliant  Dermalogica     3/27/23   \n",
       "3     Multi-Vitamin Thermafoliant  Dermalogica     3/27/23   \n",
       "4     Multi-Vitamin Thermafoliant  Dermalogica     3/27/23   \n",
       "...                           ...          ...         ...   \n",
       "4145           Daily Microfoliant  Dermalogica     3/27/23   \n",
       "4146           Daily Microfoliant  Dermalogica     3/27/23   \n",
       "4147           Daily Microfoliant  Dermalogica     3/27/23   \n",
       "4148           Daily Microfoliant  Dermalogica     3/27/23   \n",
       "4149           Daily Microfoliant  Dermalogica     3/27/23   \n",
       "\n",
       "                                                  score  compound  sentiment  \\\n",
       "0     {'neg': 0.0, 'neu': 0.693, 'pos': 0.307, 'comp...    0.7964          1   \n",
       "1     {'neg': 0.102, 'neu': 0.723, 'pos': 0.175, 'co...    0.2960          1   \n",
       "2     {'neg': 0.0, 'neu': 0.64, 'pos': 0.36, 'compou...    0.8347          1   \n",
       "3     {'neg': 0.029, 'neu': 0.758, 'pos': 0.212, 'co...    0.8636          1   \n",
       "4     {'neg': 0.061, 'neu': 0.718, 'pos': 0.221, 'co...    0.6992          1   \n",
       "...                                                 ...       ...        ...   \n",
       "4145  {'neg': 0.0, 'neu': 0.633, 'pos': 0.367, 'comp...    0.4404          1   \n",
       "4146  {'neg': 0.063, 'neu': 0.808, 'pos': 0.128, 'co...    0.8064          1   \n",
       "4147  {'neg': 0.0, 'neu': 0.734, 'pos': 0.266, 'comp...    0.4404          1   \n",
       "4148  {'neg': 0.106, 'neu': 0.8, 'pos': 0.094, 'comp...    0.0518          1   \n",
       "4149  {'neg': 0.0, 'neu': 0.799, 'pos': 0.201, 'comp...    0.8209          1   \n",
       "\n",
       "                                          cleaning_data  \\\n",
       "0     love using this on my face while in the shower...   \n",
       "1     even better than the daily microfoliant. i'm o...   \n",
       "2     enjoy this product so much ! i look forward to...   \n",
       "3     i've never tried anything like this before and...   \n",
       "4     this exfoliates very nicely and gives a very s...   \n",
       "...                                                 ...   \n",
       "4145                  much better product than a scrub.   \n",
       "4146  i've been using this exfoliant for a few month...   \n",
       "4147           my skin looks better now than years ago.   \n",
       "4148  this product was useless for me. i should've k...   \n",
       "4149  this product is amazing! it is the only thing ...   \n",
       "\n",
       "                                               tweet_sw  \\\n",
       "0     love using face shower. heats gives light scru...   \n",
       "1     even better daily microfoliant. i'm obsessed. ...   \n",
       "2     enjoy product much ! look forward using - real...   \n",
       "3     i've never tried anything like love it. apply ...   \n",
       "4     exfoliates nicely gives smooth skin irritation...   \n",
       "...                                                 ...   \n",
       "4145                         much better product scrub.   \n",
       "4146  i've using exfoliant months now. depending con...   \n",
       "4147                       skin looks better years ago.   \n",
       "4148  product useless me. known exfoliant use daily ...   \n",
       "4149  product amazing! thing helps dry patches cheek...   \n",
       "\n",
       "                                             tweet_stem  \\\n",
       "0      love use face shower. heat give light scrub nice   \n",
       "1     even better daili microfoliant. i'm obsessed. ...   \n",
       "2     enjoy product much ! look forward use - realli...   \n",
       "3     i'v never tri anyth like love it. appli face g...   \n",
       "4     exfoli nice give smooth skin irrit reaction sk...   \n",
       "...                                                 ...   \n",
       "4145                         much better product scrub.   \n",
       "4146  i'v use exfoli month now. depend condit skin i...   \n",
       "4147                         skin look better year ago.   \n",
       "4148  product useless me. known exfoli use daili wou...   \n",
       "4149  product amazing! thing help dri patch cheek al...   \n",
       "\n",
       "                                            tweet_clean  \n",
       "0            love use face shower heat light scrub nice  \n",
       "1            well daili microfoliant obsess skin smooth  \n",
       "2      enjoy product look forward use realli feel great  \n",
       "3     i'v tri anyth like love appli face littl shoot...  \n",
       "4     exfoli nice smooth skin irrit reaction skin hi...  \n",
       "...                                                 ...  \n",
       "4145                                 well product scrub  \n",
       "4146  i'v use exfoli month depend condit skin use an...  \n",
       "4147                            skin look well year ago  \n",
       "4148  product useless know exfoli use daili gentl wo...  \n",
       "4149  product amazing thing help dri patch cheek cle...  \n",
       "\n",
       "[3653 rows x 17 columns]"
      ]
     },
     "execution_count": 28,
     "metadata": {},
     "output_type": "execute_result"
    }
   ],
   "source": [
    "data"
   ]
  },
  {
   "cell_type": "code",
   "execution_count": 29,
   "id": "811a65b1",
   "metadata": {
    "execution": {
     "iopub.execute_input": "2023-04-13T14:30:03.581147Z",
     "iopub.status.busy": "2023-04-13T14:30:03.580709Z",
     "iopub.status.idle": "2023-04-13T14:30:06.305936Z",
     "shell.execute_reply": "2023-04-13T14:30:06.304227Z"
    },
    "papermill": {
     "duration": 2.747869,
     "end_time": "2023-04-13T14:30:06.309187",
     "exception": false,
     "start_time": "2023-04-13T14:30:03.561318",
     "status": "completed"
    },
    "tags": []
   },
   "outputs": [],
   "source": [
    "data.to_excel('skincaredata.xlsx')"
   ]
  },
  {
   "cell_type": "markdown",
   "id": "c6f94d09",
   "metadata": {
    "papermill": {
     "duration": 0.019447,
     "end_time": "2023-04-13T14:30:06.347968",
     "exception": false,
     "start_time": "2023-04-13T14:30:06.328521",
     "status": "completed"
    },
    "tags": []
   },
   "source": [
    "# 4 TF - IDF"
   ]
  },
  {
   "cell_type": "code",
   "execution_count": 30,
   "id": "c12338fb",
   "metadata": {
    "execution": {
     "iopub.execute_input": "2023-04-13T14:30:06.389294Z",
     "iopub.status.busy": "2023-04-13T14:30:06.388560Z",
     "iopub.status.idle": "2023-04-13T14:30:06.565995Z",
     "shell.execute_reply": "2023-04-13T14:30:06.564593Z"
    },
    "papermill": {
     "duration": 0.201204,
     "end_time": "2023-04-13T14:30:06.569447",
     "exception": false,
     "start_time": "2023-04-13T14:30:06.368243",
     "status": "completed"
    },
    "tags": []
   },
   "outputs": [
    {
     "name": "stdout",
     "output_type": "stream",
     "text": [
      "  (0, 3811)\t0.13769194840912682\n",
      "  (0, 3173)\t0.41290598807639545\n",
      "  (0, 3075)\t0.3504833300422451\n",
      "  (0, 2316)\t0.35278166955037893\n",
      "  (0, 2049)\t0.1860887017272084\n",
      "  (0, 1981)\t0.44690274418509585\n",
      "  (0, 1630)\t0.5315288911061257\n",
      "  (0, 1274)\t0.21536497299817586\n",
      "  (1, 3917)\t0.39898743006698156\n",
      "  (1, 3263)\t0.25930582280673004\n",
      "  (1, 3217)\t0.14353038882632507\n",
      "  (1, 2366)\t0.5938266169944086\n",
      "  (1, 2170)\t0.5450958035939177\n",
      "  (1, 814)\t0.321261672540798\n",
      "  (2, 3811)\t0.16100665633596306\n",
      "  (2, 2810)\t0.30499861758631686\n",
      "  (2, 2707)\t0.18246014990727485\n",
      "  (2, 2029)\t0.3091687865956119\n",
      "  (2, 1564)\t0.2941012833504299\n",
      "  (2, 1417)\t0.6215300930209432\n",
      "  (2, 1324)\t0.196781636864581\n",
      "  (2, 1139)\t0.49056846715893226\n",
      "  (3, 3880)\t0.22963689873793366\n",
      "  (3, 3703)\t0.14946571143205561\n",
      "  (3, 3163)\t0.3909321300302453\n",
      "  :\t:\n",
      "  (3651, 3811)\t0.06981784328588819\n",
      "  (3651, 3785)\t0.38578850327347286\n",
      "  (3651, 2933)\t0.3518220182199409\n",
      "  (3651, 2707)\t0.07912079191039231\n",
      "  (3651, 1916)\t0.21030210056149057\n",
      "  (3651, 1504)\t0.2252723708965004\n",
      "  (3651, 1487)\t0.13217321141657615\n",
      "  (3651, 1447)\t0.23555229021204357\n",
      "  (3651, 1216)\t0.10592302704678423\n",
      "  (3651, 814)\t0.13650216821079988\n",
      "  (3651, 749)\t0.36740826079920275\n",
      "  (3651, 207)\t0.28140942975876654\n",
      "  (3652, 3599)\t0.34831993032685554\n",
      "  (3652, 3282)\t0.20269250599403482\n",
      "  (3652, 3263)\t0.18950499092668707\n",
      "  (3652, 3217)\t0.10489438585615385\n",
      "  (3652, 2707)\t0.13608754353084865\n",
      "  (3652, 2629)\t0.2946182222198005\n",
      "  (3652, 2505)\t0.4261748582542005\n",
      "  (3652, 1955)\t0.21883332511846834\n",
      "  (3652, 1642)\t0.26735991885403204\n",
      "  (3652, 1045)\t0.22477159859642348\n",
      "  (3652, 595)\t0.20258692759671665\n",
      "  (3652, 551)\t0.4261748582542005\n",
      "  (3652, 136)\t0.3334234233460334\n"
     ]
    }
   ],
   "source": [
    "from sklearn.feature_extraction.text import TfidfVectorizer\n",
    "\n",
    "vectorizer = TfidfVectorizer()\n",
    "vectorizer.fit(data['tweet_clean'])\n",
    "vector = vectorizer.transform(data['tweet_clean'])\n",
    "print(vector)"
   ]
  },
  {
   "cell_type": "markdown",
   "id": "fa243cf3",
   "metadata": {
    "papermill": {
     "duration": 0.017959,
     "end_time": "2023-04-13T14:30:06.605260",
     "exception": false,
     "start_time": "2023-04-13T14:30:06.587301",
     "status": "completed"
    },
    "tags": []
   },
   "source": [
    "# 5 Split Dataset"
   ]
  },
  {
   "cell_type": "code",
   "execution_count": 31,
   "id": "7d8251f7",
   "metadata": {
    "execution": {
     "iopub.execute_input": "2023-04-13T14:30:06.645128Z",
     "iopub.status.busy": "2023-04-13T14:30:06.643776Z",
     "iopub.status.idle": "2023-04-13T14:30:06.654604Z",
     "shell.execute_reply": "2023-04-13T14:30:06.653273Z"
    },
    "papermill": {
     "duration": 0.03388,
     "end_time": "2023-04-13T14:30:06.657463",
     "exception": false,
     "start_time": "2023-04-13T14:30:06.623583",
     "status": "completed"
    },
    "tags": []
   },
   "outputs": [],
   "source": [
    "from sklearn.model_selection import train_test_split\n",
    "X = data['tweet_clean']\n",
    "y = data['sentiment']\n",
    "\n",
    "X_train, X_test, y_train, y_test = train_test_split(vector,y,test_size = 0.2)"
   ]
  },
  {
   "cell_type": "markdown",
   "id": "47d40696",
   "metadata": {
    "papermill": {
     "duration": 0.018947,
     "end_time": "2023-04-13T14:30:06.694933",
     "exception": false,
     "start_time": "2023-04-13T14:30:06.675986",
     "status": "completed"
    },
    "tags": []
   },
   "source": [
    "# 6 SMOTE"
   ]
  },
  {
   "cell_type": "code",
   "execution_count": 32,
   "id": "c406fd20",
   "metadata": {
    "execution": {
     "iopub.execute_input": "2023-04-13T14:30:06.733398Z",
     "iopub.status.busy": "2023-04-13T14:30:06.732870Z",
     "iopub.status.idle": "2023-04-13T14:30:06.879234Z",
     "shell.execute_reply": "2023-04-13T14:30:06.877759Z"
    },
    "papermill": {
     "duration": 0.169897,
     "end_time": "2023-04-13T14:30:06.882538",
     "exception": false,
     "start_time": "2023-04-13T14:30:06.712641",
     "status": "completed"
    },
    "tags": []
   },
   "outputs": [
    {
     "data": {
      "image/png": "[encoded data removed]",
      "text/plain": [
       "<Figure size 640x480 with 1 Axes>"
      ]
     },
     "metadata": {},
     "output_type": "display_data"
    }
   ],
   "source": [
    "# Class Imbalance Check\n",
    "plt.pie(y_train.value_counts(), \n",
    "        labels=['Negative Tweet','Positive Tweet'], \n",
    "        autopct='%0.1f%%')\n",
    "plt.axis('equal')\n",
    "plt.title(\"Data Training before SMOTE\")\n",
    "plt.show()"
   ]
  },
  {
   "cell_type": "code",
   "execution_count": 33,
   "id": "8a674491",
   "metadata": {
    "execution": {
     "iopub.execute_input": "2023-04-13T14:30:06.947657Z",
     "iopub.status.busy": "2023-04-13T14:30:06.947227Z",
     "iopub.status.idle": "2023-04-13T14:30:07.475781Z",
     "shell.execute_reply": "2023-04-13T14:30:07.474377Z"
    },
    "papermill": {
     "duration": 0.551731,
     "end_time": "2023-04-13T14:30:07.479019",
     "exception": false,
     "start_time": "2023-04-13T14:30:06.927288",
     "status": "completed"
    },
    "tags": []
   },
   "outputs": [],
   "source": [
    "from imblearn.over_sampling import SMOTE\n",
    "\n",
    "sm = SMOTE(random_state=42)\n",
    "X_train_sm, y_train_sm = sm.fit_resample(X_train, y_train)"
   ]
  },
  {
   "cell_type": "code",
   "execution_count": 34,
   "id": "9247d328",
   "metadata": {
    "execution": {
     "iopub.execute_input": "2023-04-13T14:30:07.517548Z",
     "iopub.status.busy": "2023-04-13T14:30:07.517090Z",
     "iopub.status.idle": "2023-04-13T14:30:07.650192Z",
     "shell.execute_reply": "2023-04-13T14:30:07.648349Z"
    },
    "papermill": {
     "duration": 0.157914,
     "end_time": "2023-04-13T14:30:07.655242",
     "exception": false,
     "start_time": "2023-04-13T14:30:07.497328",
     "status": "completed"
    },
    "tags": []
   },
   "outputs": [
    {
     "data": {
      "image/png": "[encoded data removed]",
      "text/plain": [
       "<Figure size 640x480 with 1 Axes>"
      ]
     },
     "metadata": {},
     "output_type": "display_data"
    }
   ],
   "source": [
    "# Class Imbalance Check\n",
    "plt.pie(y_train_sm.value_counts(), \n",
    "        labels=['Negative Tweet','Positive Tweet'], \n",
    "        autopct='%0.1f%%')\n",
    "plt.axis('equal')\n",
    "plt.title(\"Data Training after SMOTE\")\n",
    "plt.show()"
   ]
  },
  {
   "cell_type": "code",
   "execution_count": 35,
   "id": "1041646e",
   "metadata": {
    "execution": {
     "iopub.execute_input": "2023-04-13T14:30:07.722705Z",
     "iopub.status.busy": "2023-04-13T14:30:07.721769Z",
     "iopub.status.idle": "2023-04-13T14:30:07.731361Z",
     "shell.execute_reply": "2023-04-13T14:30:07.729656Z"
    },
    "papermill": {
     "duration": 0.033467,
     "end_time": "2023-04-13T14:30:07.734202",
     "exception": false,
     "start_time": "2023-04-13T14:30:07.700735",
     "status": "completed"
    },
    "tags": []
   },
   "outputs": [
    {
     "name": "stdout",
     "output_type": "stream",
     "text": [
      "Original dataset shape Counter({1: 2734, 0: 188})\n",
      "Resampled dataset shape Counter({1: 2734, 0: 2734})\n"
     ]
    }
   ],
   "source": [
    "from collections import Counter\n",
    "print('Original dataset shape %s' % Counter(y_train))\n",
    "print('Resampled dataset shape %s' % Counter(y_train_sm))"
   ]
  },
  {
   "cell_type": "markdown",
   "id": "665d2f71",
   "metadata": {
    "papermill": {
     "duration": 0.019654,
     "end_time": "2023-04-13T14:30:07.774851",
     "exception": false,
     "start_time": "2023-04-13T14:30:07.755197",
     "status": "completed"
    },
    "tags": []
   },
   "source": [
    "# 6 Model "
   ]
  },
  {
   "cell_type": "code",
   "execution_count": 36,
   "id": "47fa5839",
   "metadata": {
    "execution": {
     "iopub.execute_input": "2023-04-13T14:30:07.818688Z",
     "iopub.status.busy": "2023-04-13T14:30:07.818198Z",
     "iopub.status.idle": "2023-04-13T14:30:07.825956Z",
     "shell.execute_reply": "2023-04-13T14:30:07.824558Z"
    },
    "papermill": {
     "duration": 0.03251,
     "end_time": "2023-04-13T14:30:07.828489",
     "exception": false,
     "start_time": "2023-04-13T14:30:07.795979",
     "status": "completed"
    },
    "tags": []
   },
   "outputs": [],
   "source": [
    "from sklearn.linear_model import LogisticRegression\n",
    "import sklearn.metrics as metrics\n",
    "from sklearn.metrics import classification_report\n",
    "from sklearn.metrics import accuracy_score, confusion_matrix, precision_score, recall_score"
   ]
  },
  {
   "cell_type": "markdown",
   "id": "b3f1011d",
   "metadata": {
    "papermill": {
     "duration": 0.019452,
     "end_time": "2023-04-13T14:30:07.866893",
     "exception": false,
     "start_time": "2023-04-13T14:30:07.847441",
     "status": "completed"
    },
    "tags": []
   },
   "source": [
    "## 6.1 Model + SMOTE"
   ]
  },
  {
   "cell_type": "code",
   "execution_count": 37,
   "id": "41dd858a",
   "metadata": {
    "execution": {
     "iopub.execute_input": "2023-04-13T14:30:07.908513Z",
     "iopub.status.busy": "2023-04-13T14:30:07.907728Z",
     "iopub.status.idle": "2023-04-13T14:30:08.013449Z",
     "shell.execute_reply": "2023-04-13T14:30:08.012111Z"
    },
    "papermill": {
     "duration": 0.129169,
     "end_time": "2023-04-13T14:30:08.016466",
     "exception": false,
     "start_time": "2023-04-13T14:30:07.887297",
     "status": "completed"
    },
    "tags": []
   },
   "outputs": [],
   "source": [
    "# create logistic regression model + SMOTE\n",
    "logreg = LogisticRegression()\n",
    "# train model on  vectorised training data\n",
    "model = logreg.fit(X_train_sm, y_train_sm)"
   ]
  },
  {
   "cell_type": "markdown",
   "id": "84fb66cb",
   "metadata": {
    "papermill": {
     "duration": 0.019537,
     "end_time": "2023-04-13T14:30:08.055511",
     "exception": false,
     "start_time": "2023-04-13T14:30:08.035974",
     "status": "completed"
    },
    "tags": []
   },
   "source": [
    "## 6.2 Model"
   ]
  },
  {
   "cell_type": "code",
   "execution_count": 38,
   "id": "a631610d",
   "metadata": {
    "execution": {
     "iopub.execute_input": "2023-04-13T14:30:08.098016Z",
     "iopub.status.busy": "2023-04-13T14:30:08.097413Z",
     "iopub.status.idle": "2023-04-13T14:30:08.145222Z",
     "shell.execute_reply": "2023-04-13T14:30:08.143786Z"
    },
    "papermill": {
     "duration": 0.07354,
     "end_time": "2023-04-13T14:30:08.149297",
     "exception": false,
     "start_time": "2023-04-13T14:30:08.075757",
     "status": "completed"
    },
    "tags": []
   },
   "outputs": [],
   "source": [
    "# create logistic regression model\n",
    "logreg1 = LogisticRegression()\n",
    "# train model on  vectorised training data\n",
    "model1 = logreg.fit(X_train, y_train)"
   ]
  },
  {
   "cell_type": "markdown",
   "id": "99cc61e3",
   "metadata": {
    "papermill": {
     "duration": 0.018868,
     "end_time": "2023-04-13T14:30:08.187259",
     "exception": false,
     "start_time": "2023-04-13T14:30:08.168391",
     "status": "completed"
    },
    "tags": []
   },
   "source": [
    "# 7 Evaluation Model"
   ]
  },
  {
   "cell_type": "markdown",
   "id": "c022abdb",
   "metadata": {
    "papermill": {
     "duration": 0.018911,
     "end_time": "2023-04-13T14:30:08.225351",
     "exception": false,
     "start_time": "2023-04-13T14:30:08.206440",
     "status": "completed"
    },
    "tags": []
   },
   "source": [
    "## 7.1 Evaluation Model + SMOTE"
   ]
  },
  {
   "cell_type": "code",
   "execution_count": 39,
   "id": "def31da1",
   "metadata": {
    "execution": {
     "iopub.execute_input": "2023-04-13T14:30:08.266900Z",
     "iopub.status.busy": "2023-04-13T14:30:08.265955Z",
     "iopub.status.idle": "2023-04-13T14:30:08.480952Z",
     "shell.execute_reply": "2023-04-13T14:30:08.479731Z"
    },
    "papermill": {
     "duration": 0.239004,
     "end_time": "2023-04-13T14:30:08.484057",
     "exception": false,
     "start_time": "2023-04-13T14:30:08.245053",
     "status": "completed"
    },
    "tags": []
   },
   "outputs": [
    {
     "name": "stdout",
     "output_type": "stream",
     "text": [
      "Accuracy:  96.88569472963724 %\n",
      "Accuracy:  91.79206566347469 %\n",
      "Confusion Matrix training : \n",
      "[[ 184    4]\n",
      " [  87 2647]]\n",
      "Confusion Matrix testing : \n",
      "[[ 17  18]\n",
      " [ 42 654]]\n",
      "Classification report testing: \n",
      "              precision    recall  f1-score   support\n",
      "\n",
      "           0       0.29      0.49      0.36        35\n",
      "           1       0.97      0.94      0.96       696\n",
      "\n",
      "    accuracy                           0.92       731\n",
      "   macro avg       0.63      0.71      0.66       731\n",
      "weighted avg       0.94      0.92      0.93       731\n",
      "\n",
      "Classification report training : \n",
      "              precision    recall  f1-score   support\n",
      "\n",
      "           0       0.68      0.98      0.80       188\n",
      "           1       1.00      0.97      0.98      2734\n",
      "\n",
      "    accuracy                           0.97      2922\n",
      "   macro avg       0.84      0.97      0.89      2922\n",
      "weighted avg       0.98      0.97      0.97      2922\n",
      "\n"
     ]
    }
   ],
   "source": [
    "y_preds_training = logreg.fit(X_train_sm, y_train_sm).predict(X_train)\n",
    "y_preds_testing = logreg.fit(X_train_sm, y_train_sm).predict(X_test)\n",
    "accuracy_training = accuracy_score(y_train, y_preds_training)\n",
    "accuracy_testing = accuracy_score(y_test, y_preds_testing)\n",
    "print('Accuracy: ', accuracy_training*100, \"%\")\n",
    "print('Accuracy: ', accuracy_testing*100, \"%\")\n",
    "print(\"Confusion Matrix training : \")\n",
    "print(confusion_matrix(y_train, y_preds_training))\n",
    "print(\"Confusion Matrix testing : \")\n",
    "print(confusion_matrix(y_test, y_preds_testing))\n",
    "print(\"Classification report testing: \")\n",
    "print(classification_report(y_test, y_preds_testing))\n",
    "print(\"Classification report training : \")\n",
    "print(classification_report(y_train, y_preds_training))"
   ]
  },
  {
   "cell_type": "markdown",
   "id": "b02124f3",
   "metadata": {
    "papermill": {
     "duration": 0.020303,
     "end_time": "2023-04-13T14:30:08.524585",
     "exception": false,
     "start_time": "2023-04-13T14:30:08.504282",
     "status": "completed"
    },
    "tags": []
   },
   "source": [
    "## 7.2 Evaluation Model"
   ]
  },
  {
   "cell_type": "code",
   "execution_count": 40,
   "id": "b22ef5c3",
   "metadata": {
    "execution": {
     "iopub.execute_input": "2023-04-13T14:30:08.564407Z",
     "iopub.status.busy": "2023-04-13T14:30:08.563637Z",
     "iopub.status.idle": "2023-04-13T14:30:08.669690Z",
     "shell.execute_reply": "2023-04-13T14:30:08.667739Z"
    },
    "papermill": {
     "duration": 0.129709,
     "end_time": "2023-04-13T14:30:08.673086",
     "exception": false,
     "start_time": "2023-04-13T14:30:08.543377",
     "status": "completed"
    },
    "tags": []
   },
   "outputs": [
    {
     "name": "stdout",
     "output_type": "stream",
     "text": [
      "Accuracy training:  93.63449691991786 %\n",
      "Accuracy testing:  95.34883720930233 %\n",
      "Confusion Matrix training : \n",
      "[[   2  186]\n",
      " [   0 2734]]\n",
      "Confusion Matrix testing : \n",
      "[[  1  34]\n",
      " [  0 696]]\n",
      "Classification report testing: \n",
      "              precision    recall  f1-score   support\n",
      "\n",
      "           0       1.00      0.03      0.06        35\n",
      "           1       0.95      1.00      0.98       696\n",
      "\n",
      "    accuracy                           0.95       731\n",
      "   macro avg       0.98      0.51      0.52       731\n",
      "weighted avg       0.96      0.95      0.93       731\n",
      "\n",
      "Classification report training : \n",
      "              precision    recall  f1-score   support\n",
      "\n",
      "           0       1.00      0.01      0.02       188\n",
      "           1       0.94      1.00      0.97      2734\n",
      "\n",
      "    accuracy                           0.94      2922\n",
      "   macro avg       0.97      0.51      0.49      2922\n",
      "weighted avg       0.94      0.94      0.91      2922\n",
      "\n"
     ]
    }
   ],
   "source": [
    "y_preds_training1 = logreg1.fit(X_train, y_train).predict(X_train)\n",
    "y_preds_testing1 = logreg1.fit(X_train, y_train).predict(X_test)\n",
    "accuracy_training1 = accuracy_score(y_train, y_preds_training1)\n",
    "accuracy_testing1 = accuracy_score(y_test, y_preds_testing1)\n",
    "print('Accuracy training: ', accuracy_training1*100, \"%\")\n",
    "print('Accuracy testing: ', accuracy_testing1*100, \"%\")\n",
    "print(\"Confusion Matrix training : \")\n",
    "print(confusion_matrix(y_train, y_preds_training1))\n",
    "print(\"Confusion Matrix testing : \")\n",
    "print(confusion_matrix(y_test, y_preds_testing1))\n",
    "print(\"Classification report testing: \")\n",
    "print(classification_report(y_test, y_preds_testing1))\n",
    "print(\"Classification report training : \")\n",
    "print(classification_report(y_train, y_preds_training1))"
   ]
  },
  {
   "cell_type": "markdown",
   "id": "217a011b",
   "metadata": {
    "papermill": {
     "duration": 0.01862,
     "end_time": "2023-04-13T14:30:08.711837",
     "exception": false,
     "start_time": "2023-04-13T14:30:08.693217",
     "status": "completed"
    },
    "tags": []
   },
   "source": [
    "# 8 SHAP"
   ]
  },
  {
   "cell_type": "code",
   "execution_count": 41,
   "id": "031fde01",
   "metadata": {
    "execution": {
     "iopub.execute_input": "2023-04-13T14:30:08.752010Z",
     "iopub.status.busy": "2023-04-13T14:30:08.751579Z",
     "iopub.status.idle": "2023-04-13T14:30:20.766263Z",
     "shell.execute_reply": "2023-04-13T14:30:20.764668Z"
    },
    "papermill": {
     "duration": 12.03857,
     "end_time": "2023-04-13T14:30:20.769359",
     "exception": false,
     "start_time": "2023-04-13T14:30:08.730789",
     "status": "completed"
    },
    "tags": []
   },
   "outputs": [
    {
     "name": "stdout",
     "output_type": "stream",
     "text": [
      "Requirement already satisfied: shap in /opt/conda/lib/python3.7/site-packages (0.41.0)\r\n",
      "Requirement already satisfied: packaging>20.9 in /opt/conda/lib/python3.7/site-packages (from shap) (23.0)\r\n",
      "Requirement already satisfied: slicer==0.0.7 in /opt/conda/lib/python3.7/site-packages (from shap) (0.0.7)\r\n",
      "Requirement already satisfied: cloudpickle in /opt/conda/lib/python3.7/site-packages (from shap) (2.2.1)\r\n",
      "Requirement already satisfied: numba in /opt/conda/lib/python3.7/site-packages (from shap) (0.56.4)\r\n",
      "Requirement already satisfied: tqdm>4.25.0 in /opt/conda/lib/python3.7/site-packages (from shap) (4.64.1)\r\n",
      "Requirement already satisfied: scikit-learn in /opt/conda/lib/python3.7/site-packages (from shap) (1.0.2)\r\n",
      "Requirement already satisfied: numpy in /opt/conda/lib/python3.7/site-packages (from shap) (1.21.6)\r\n",
      "Requirement already satisfied: pandas in /opt/conda/lib/python3.7/site-packages (from shap) (1.3.5)\r\n",
      "Requirement already satisfied: scipy in /opt/conda/lib/python3.7/site-packages (from shap) (1.7.3)\r\n",
      "Requirement already satisfied: setuptools in /opt/conda/lib/python3.7/site-packages (from numba->shap) (59.8.0)\r\n",
      "Requirement already satisfied: llvmlite<0.40,>=0.39.0dev0 in /opt/conda/lib/python3.7/site-packages (from numba->shap) (0.39.1)\r\n",
      "Requirement already satisfied: importlib-metadata in /opt/conda/lib/python3.7/site-packages (from numba->shap) (4.11.4)\r\n",
      "Requirement already satisfied: pytz>=2017.3 in /opt/conda/lib/python3.7/site-packages (from pandas->shap) (2022.7.1)\r\n",
      "Requirement already satisfied: python-dateutil>=2.7.3 in /opt/conda/lib/python3.7/site-packages (from pandas->shap) (2.8.2)\r\n",
      "Requirement already satisfied: threadpoolctl>=2.0.0 in /opt/conda/lib/python3.7/site-packages (from scikit-learn->shap) (3.1.0)\r\n",
      "Requirement already satisfied: joblib>=0.11 in /opt/conda/lib/python3.7/site-packages (from scikit-learn->shap) (1.2.0)\r\n",
      "Requirement already satisfied: six>=1.5 in /opt/conda/lib/python3.7/site-packages (from python-dateutil>=2.7.3->pandas->shap) (1.16.0)\r\n",
      "Requirement already satisfied: typing-extensions>=3.6.4 in /opt/conda/lib/python3.7/site-packages (from importlib-metadata->numba->shap) (4.4.0)\r\n",
      "Requirement already satisfied: zipp>=0.5 in /opt/conda/lib/python3.7/site-packages (from importlib-metadata->numba->shap) (3.11.0)\r\n",
      "\u001b[33mWARNING: Running pip as the 'root' user can result in broken permissions and conflicting behaviour with the system package manager. It is recommended to use a virtual environment instead: https://pip.pypa.io/warnings/venv\u001b[0m\u001b[33m\r\n",
      "\u001b[0m"
     ]
    }
   ],
   "source": [
    "!pip install shap"
   ]
  },
  {
   "cell_type": "markdown",
   "id": "27ec66b1",
   "metadata": {
    "papermill": {
     "duration": 0.018866,
     "end_time": "2023-04-13T14:30:20.807755",
     "exception": false,
     "start_time": "2023-04-13T14:30:20.788889",
     "status": "completed"
    },
    "tags": []
   },
   "source": [
    "## 8 SHAP with SMOTE"
   ]
  },
  {
   "cell_type": "code",
   "execution_count": 42,
   "id": "16c840f4",
   "metadata": {
    "execution": {
     "iopub.execute_input": "2023-04-13T14:30:20.850954Z",
     "iopub.status.busy": "2023-04-13T14:30:20.849593Z",
     "iopub.status.idle": "2023-04-13T14:30:22.632020Z",
     "shell.execute_reply": "2023-04-13T14:30:22.630384Z"
    },
    "papermill": {
     "duration": 1.807308,
     "end_time": "2023-04-13T14:30:22.634862",
     "exception": false,
     "start_time": "2023-04-13T14:30:20.827554",
     "status": "completed"
    },
    "tags": []
   },
   "outputs": [
    {
     "name": "stderr",
     "output_type": "stream",
     "text": [
      "Function get_feature_names is deprecated; get_feature_names is deprecated in 1.0 and will be removed in 1.2. Please use get_feature_names_out instead.\n"
     ]
    }
   ],
   "source": [
    "import shap\n",
    "\n",
    "explainer = shap.Explainer(model, X_train_sm, feature_names=vectorizer.get_feature_names())\n",
    "shap_values = explainer(X_test)"
   ]
  },
  {
   "cell_type": "code",
   "execution_count": 43,
   "id": "0079f729",
   "metadata": {
    "execution": {
     "iopub.execute_input": "2023-04-13T14:30:22.677541Z",
     "iopub.status.busy": "2023-04-13T14:30:22.676971Z",
     "iopub.status.idle": "2023-04-13T14:30:24.102411Z",
     "shell.execute_reply": "2023-04-13T14:30:24.101114Z"
    },
    "papermill": {
     "duration": 1.449784,
     "end_time": "2023-04-13T14:30:24.105403",
     "exception": false,
     "start_time": "2023-04-13T14:30:22.655619",
     "status": "completed"
    },
    "tags": []
   },
   "outputs": [
    {
     "data": {
      "image/png": "[encoded data removed]",
      "text/plain": [
       "<Figure size 800x1150 with 2 Axes>"
      ]
     },
     "metadata": {},
     "output_type": "display_data"
    }
   ],
   "source": [
    "shap.plots.beeswarm(shap_values,max_display=25)"
   ]
  },
  {
   "cell_type": "markdown",
   "id": "4fe10ad4",
   "metadata": {
    "papermill": {
     "duration": 0.021279,
     "end_time": "2023-04-13T14:30:24.148515",
     "exception": false,
     "start_time": "2023-04-13T14:30:24.127236",
     "status": "completed"
    },
    "tags": []
   },
   "source": [
    "## 8.2 SHAP without SMOTE"
   ]
  },
  {
   "cell_type": "code",
   "execution_count": 44,
   "id": "e9eefcfe",
   "metadata": {
    "execution": {
     "iopub.execute_input": "2023-04-13T14:30:24.194282Z",
     "iopub.status.busy": "2023-04-13T14:30:24.193450Z",
     "iopub.status.idle": "2023-04-13T14:30:24.345375Z",
     "shell.execute_reply": "2023-04-13T14:30:24.344018Z"
    },
    "papermill": {
     "duration": 0.1781,
     "end_time": "2023-04-13T14:30:24.348668",
     "exception": false,
     "start_time": "2023-04-13T14:30:24.170568",
     "status": "completed"
    },
    "tags": []
   },
   "outputs": [],
   "source": [
    "explainer1 = shap.Explainer(model, X_train, feature_names=vectorizer.get_feature_names())\n",
    "shap_values1 = explainer1(X_test)"
   ]
  },
  {
   "cell_type": "code",
   "execution_count": 45,
   "id": "bf483a68",
   "metadata": {
    "execution": {
     "iopub.execute_input": "2023-04-13T14:30:24.394113Z",
     "iopub.status.busy": "2023-04-13T14:30:24.393697Z",
     "iopub.status.idle": "2023-04-13T14:30:25.791397Z",
     "shell.execute_reply": "2023-04-13T14:30:25.789646Z"
    },
    "papermill": {
     "duration": 1.42433,
     "end_time": "2023-04-13T14:30:25.794213",
     "exception": false,
     "start_time": "2023-04-13T14:30:24.369883",
     "status": "completed"
    },
    "tags": []
   },
   "outputs": [
    {
     "data": {
      "image/png": "[encoded data removed]",
      "text/plain": [
       "<Figure size 800x1150 with 2 Axes>"
      ]
     },
     "metadata": {},
     "output_type": "display_data"
    }
   ],
   "source": [
    "shap.plots.beeswarm(shap_values1,max_display=25)"
   ]
  },
  {
   "cell_type": "markdown",
   "id": "dabd51f8",
   "metadata": {
    "papermill": {
     "duration": 0.02468,
     "end_time": "2023-04-13T14:30:25.842078",
     "exception": false,
     "start_time": "2023-04-13T14:30:25.817398",
     "status": "completed"
    },
    "tags": []
   },
   "source": [
    "**The results of sentiment analysis with SHAP interpretation are:**\n",
    "1. Dermalogica has many benefits for its users, such as being good at cleaning the face, exfoliating the face, and making the face feel smoother. This causes users to feel that Dermalogica products are good and great at solving user skin problems.\n",
    "\n",
    "2. Dermalogica products are liked by many people but there are some users who don't like dermalogica products. Dermalogica products are claimed by users to have an unpleasant odor and a change in formula compared to dermalogica products which are no longer being used."
   ]
  }
 ],
 "metadata": {
  "kernelspec": {
   "display_name": "Python 3",
   "language": "python",
   "name": "python3"
  },
  "language_info": {
   "codemirror_mode": {
    "name": "ipython",
    "version": 3
   },
   "file_extension": ".py",
   "mimetype": "text/x-python",
   "name": "python",
   "nbconvert_exporter": "python",
   "pygments_lexer": "ipython3",
   "version": "3.7.12"
  },
  "papermill": {
   "default_parameters": {},
   "duration": 112.792513,
   "end_time": "2023-04-13T14:30:29.256500",
   "environment_variables": {},
   "exception": null,
   "input_path": "__notebook__.ipynb",
   "output_path": "__notebook__.ipynb",
   "parameters": {},
   "start_time": "2023-04-13T14:28:36.463987",
   "version": "2.4.0"
  }
 },
 "nbformat": 4,
 "nbformat_minor": 5
}
